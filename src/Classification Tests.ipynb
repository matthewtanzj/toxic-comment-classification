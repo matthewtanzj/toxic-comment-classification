{
 "cells": [
  {
   "cell_type": "code",
   "execution_count": 1,
   "metadata": {
    "ExecuteTime": {
     "end_time": "2017-12-26T09:47:09.919454Z",
     "start_time": "2017-12-26T09:47:06.347576Z"
    },
    "collapsed": true
   },
   "outputs": [],
   "source": [
    "import os\n",
    "import numpy as np\n",
    "import pandas as pd\n",
    "\n",
    "from textstat.textstat import textstat\n",
    "\n",
    "from sklearn.model_selection import KFold\n",
    "from sklearn.metrics import log_loss\n",
    "from scipy.sparse import hstack\n",
    "\n",
    "# Classifiers\n",
    "from sklearn.neural_network import MLPClassifier\n",
    "from sklearn.neighbors import KNeighborsClassifier\n",
    "from sklearn.svm import SVC\n",
    "from sklearn.gaussian_process import GaussianProcessClassifier\n",
    "from sklearn.gaussian_process.kernels import RBF\n",
    "from sklearn.tree import DecisionTreeClassifier\n",
    "from sklearn.ensemble import RandomForestClassifier, AdaBoostClassifier, ExtraTreesClassifier, GradientBoostingClassifier\n",
    "from sklearn.naive_bayes import GaussianNB\n",
    "from sklearn.discriminant_analysis import QuadraticDiscriminantAnalysis\n",
    "from sklearn.linear_model import LogisticRegression\n",
    "\n",
    "from NbSvmClassifier import NbSvmClassifier\n",
    "\n",
    "# BoW feature extraction\n",
    "import re, string\n",
    "from sklearn.feature_extraction.text import CountVectorizer\n",
    "from sklearn.feature_extraction.text import TfidfTransformer\n",
    "from sklearn.feature_extraction.text import TfidfVectorizer"
   ]
  },
  {
   "cell_type": "code",
   "execution_count": 2,
   "metadata": {
    "ExecuteTime": {
     "end_time": "2017-12-26T09:47:11.467453Z",
     "start_time": "2017-12-26T09:47:09.920454Z"
    },
    "collapsed": true
   },
   "outputs": [],
   "source": [
    "train_file = '../data/train.csv'\n",
    "test_file = '../data/test.csv'\n",
    "sample_submission_file = '../data/sample_submission.csv'\n",
    "\n",
    "train_all = pd.read_csv(train_file)\n",
    "test_for_submission = pd.read_csv(test_file)\n",
    "sample_submission = pd.read_csv(sample_submission_file)"
   ]
  },
  {
   "cell_type": "markdown",
   "metadata": {},
   "source": [
    "# Clean data"
   ]
  },
  {
   "cell_type": "markdown",
   "metadata": {},
   "source": [
    "TODO: Account for more cases"
   ]
  },
  {
   "cell_type": "code",
   "execution_count": 3,
   "metadata": {
    "ExecuteTime": {
     "end_time": "2017-12-26T09:47:11.499453Z",
     "start_time": "2017-12-26T09:47:11.468453Z"
    },
    "collapsed": true
   },
   "outputs": [],
   "source": [
    "train_all['comment_text'].fillna(\"unknown\", inplace=True)\n",
    "test_for_submission['comment_text'].fillna(\"unknown\", inplace=True)"
   ]
  },
  {
   "cell_type": "markdown",
   "metadata": {},
   "source": [
    "# Split train data"
   ]
  },
  {
   "cell_type": "code",
   "execution_count": 4,
   "metadata": {
    "ExecuteTime": {
     "end_time": "2017-12-26T09:47:11.761467Z",
     "start_time": "2017-12-26T09:47:11.755468Z"
    },
    "collapsed": true
   },
   "outputs": [],
   "source": [
    "kf = KFold(n_splits=5, random_state=0)\n",
    "cv_splits_train = []\n",
    "cv_splits_test = []\n",
    "for train_index, test_index in kf.split(train_all):\n",
    "    cv_splits_train.append(train_index)\n",
    "    cv_splits_test.append(test_index)\n",
    "cv_folds = len(cv_splits_train)"
   ]
  },
  {
   "cell_type": "code",
   "execution_count": 5,
   "metadata": {
    "ExecuteTime": {
     "end_time": "2017-12-26T09:47:12.151466Z",
     "start_time": "2017-12-26T09:47:12.092468Z"
    },
    "collapsed": true
   },
   "outputs": [],
   "source": [
    "cv_train = []\n",
    "cv_test = []\n",
    "for i in range(cv_folds):\n",
    "    cv_train.append(train_all.loc[cv_splits_train[i], :])\n",
    "    cv_test.append(train_all.loc[cv_splits_test[i], :])"
   ]
  },
  {
   "cell_type": "code",
   "execution_count": 6,
   "metadata": {
    "ExecuteTime": {
     "end_time": "2017-12-26T09:47:12.654468Z",
     "start_time": "2017-12-26T09:47:12.650468Z"
    },
    "collapsed": true
   },
   "outputs": [],
   "source": [
    "train = cv_train\n",
    "test = cv_test"
   ]
  },
  {
   "cell_type": "markdown",
   "metadata": {},
   "source": [
    "Count and check that the data is split such that the percentages of labels in train/test are roughly equal"
   ]
  },
  {
   "cell_type": "code",
   "execution_count": 7,
   "metadata": {
    "ExecuteTime": {
     "end_time": "2017-12-26T09:47:13.822489Z",
     "start_time": "2017-12-26T09:47:13.818489Z"
    },
    "collapsed": true
   },
   "outputs": [],
   "source": [
    "labels = ['toxic', 'severe_toxic', 'obscene', 'threat', 'insult', 'identity_hate']"
   ]
  },
  {
   "cell_type": "code",
   "execution_count": 8,
   "metadata": {
    "ExecuteTime": {
     "end_time": "2017-12-26T09:47:14.404489Z",
     "start_time": "2017-12-26T09:47:14.315489Z"
    }
   },
   "outputs": [
    {
     "name": "stdout",
     "output_type": "stream",
     "text": [
      "CV train 0\n",
      "        toxic: 7366 / 76680 (9.606%)\n",
      " severe_toxic: 792 / 76680 (1.033%)\n",
      "      obscene: 4108 / 76680 (5.357%)\n",
      "       threat: 234 / 76680 (0.305%)\n",
      "       insult: 3826 / 76680 (4.99%)\n",
      "identity_hate: 654 / 76680 (0.853%)\n",
      "CV test 0\n",
      "        toxic: 1871 / 19171 (9.76%)\n",
      " severe_toxic: 173 / 19171 (0.902%)\n",
      "      obscene: 1001 / 19171 (5.221%)\n",
      "       threat: 71 / 19171 (0.37%)\n",
      "       insult: 939 / 19171 (4.898%)\n",
      "identity_hate: 160 / 19171 (0.835%)\n",
      "CV train 1\n",
      "        toxic: 7413 / 76681 (9.667%)\n",
      " severe_toxic: 772 / 76681 (1.007%)\n",
      "      obscene: 4136 / 76681 (5.394%)\n",
      "       threat: 244 / 76681 (0.318%)\n",
      "       insult: 3841 / 76681 (5.009%)\n",
      "identity_hate: 657 / 76681 (0.857%)\n",
      "CV test 1\n",
      "        toxic: 1824 / 19170 (9.515%)\n",
      " severe_toxic: 193 / 19170 (1.007%)\n",
      "      obscene: 973 / 19170 (5.076%)\n",
      "       threat: 61 / 19170 (0.318%)\n",
      "       insult: 924 / 19170 (4.82%)\n",
      "identity_hate: 157 / 19170 (0.819%)\n",
      "CV train 2\n",
      "        toxic: 7397 / 76681 (9.646%)\n",
      " severe_toxic: 764 / 76681 (0.996%)\n",
      "      obscene: 4072 / 76681 (5.31%)\n",
      "       threat: 248 / 76681 (0.323%)\n",
      "       insult: 3795 / 76681 (4.949%)\n",
      "identity_hate: 651 / 76681 (0.849%)\n",
      "CV test 2\n",
      "        toxic: 1840 / 19170 (9.598%)\n",
      " severe_toxic: 201 / 19170 (1.049%)\n",
      "      obscene: 1037 / 19170 (5.409%)\n",
      "       threat: 57 / 19170 (0.297%)\n",
      "       insult: 970 / 19170 (5.06%)\n",
      "identity_hate: 163 / 19170 (0.85%)\n",
      "CV train 3\n",
      "        toxic: 7392 / 76681 (9.64%)\n",
      " severe_toxic: 769 / 76681 (1.003%)\n",
      "      obscene: 4068 / 76681 (5.305%)\n",
      "       threat: 254 / 76681 (0.331%)\n",
      "       insult: 3818 / 76681 (4.979%)\n",
      "identity_hate: 652 / 76681 (0.85%)\n",
      "CV test 3\n",
      "        toxic: 1845 / 19170 (9.624%)\n",
      " severe_toxic: 196 / 19170 (1.022%)\n",
      "      obscene: 1041 / 19170 (5.43%)\n",
      "       threat: 51 / 19170 (0.266%)\n",
      "       insult: 947 / 19170 (4.94%)\n",
      "identity_hate: 162 / 19170 (0.845%)\n",
      "CV train 4\n",
      "        toxic: 7380 / 76681 (9.624%)\n",
      " severe_toxic: 763 / 76681 (0.995%)\n",
      "      obscene: 4052 / 76681 (5.284%)\n",
      "       threat: 240 / 76681 (0.313%)\n",
      "       insult: 3780 / 76681 (4.93%)\n",
      "identity_hate: 642 / 76681 (0.837%)\n",
      "CV test 4\n",
      "        toxic: 1857 / 19170 (9.687%)\n",
      " severe_toxic: 202 / 19170 (1.054%)\n",
      "      obscene: 1057 / 19170 (5.514%)\n",
      "       threat: 65 / 19170 (0.339%)\n",
      "       insult: 985 / 19170 (5.138%)\n",
      "identity_hate: 172 / 19170 (0.897%)\n"
     ]
    }
   ],
   "source": [
    "def print_count_of_each_label(df):\n",
    "    for label in labels:\n",
    "        print('{}: {} / {} ({}%)'.format(label.rjust(len(labels[-1])),\n",
    "                                         df.loc[df[label] == 1].shape[0],\n",
    "                                         len(df),\n",
    "                                         np.round(df.loc[df[label] == 1].shape[0]/len(df)*100, 3)))\n",
    "\n",
    "for i in range(cv_folds):\n",
    "    print('CV train {}'.format(i))\n",
    "    print_count_of_each_label(cv_train[i])\n",
    "    print('CV test {}'.format(i))\n",
    "    print_count_of_each_label(cv_test[i])"
   ]
  },
  {
   "cell_type": "markdown",
   "metadata": {},
   "source": [
    "# Split train/test into X and y"
   ]
  },
  {
   "cell_type": "markdown",
   "metadata": {},
   "source": [
    "So that we can use sklearn classifiers easily"
   ]
  },
  {
   "cell_type": "code",
   "execution_count": 9,
   "metadata": {
    "ExecuteTime": {
     "end_time": "2017-12-26T09:47:16.248482Z",
     "start_time": "2017-12-26T09:47:16.218484Z"
    },
    "collapsed": true
   },
   "outputs": [],
   "source": [
    "X_train = [None] * cv_folds\n",
    "y_train = [None] * cv_folds\n",
    "X_test = [None] * cv_folds\n",
    "y_test = [None] * cv_folds\n",
    "for i in range(cv_folds):\n",
    "    X_train[i], y_train[i] = train[i][[\"comment_text\"]], train[i][labels]\n",
    "    X_test[i], y_test[i] = test[i][[\"comment_text\"]], test[i][labels]"
   ]
  },
  {
   "cell_type": "code",
   "execution_count": 10,
   "metadata": {
    "ExecuteTime": {
     "end_time": "2017-12-26T09:47:16.679636Z",
     "start_time": "2017-12-26T09:47:16.674639Z"
    }
   },
   "outputs": [
    {
     "name": "stdout",
     "output_type": "stream",
     "text": [
      "(76680, 1) (76680, 6)\n",
      "(19171, 1) (19171, 6)\n"
     ]
    }
   ],
   "source": [
    "print(X_train[0].shape, y_train[0].shape)\n",
    "print(X_test[0].shape, y_test[0].shape)"
   ]
  },
  {
   "cell_type": "markdown",
   "metadata": {},
   "source": [
    "# Extract features"
   ]
  },
  {
   "cell_type": "markdown",
   "metadata": {},
   "source": [
    "## Extract textstat features"
   ]
  },
  {
   "cell_type": "code",
   "execution_count": 11,
   "metadata": {
    "ExecuteTime": {
     "end_time": "2017-12-26T09:47:19.995631Z",
     "start_time": "2017-12-26T09:47:19.986630Z"
    },
    "collapsed": true
   },
   "outputs": [],
   "source": [
    "def extract_textstat_features(df):\n",
    "    features_df = pd.DataFrame()\n",
    "    features_df['comment_text_len'] = df['comment_text'].apply(len)\n",
    "    features_df['comment_text_lex_count'] = df['comment_text'].apply(textstat.lexicon_count)\n",
    "    features_df['comment_text_syl_count'] = df['comment_text'].apply(textstat.syllable_count)\n",
    "    features_df['comment_text_sent_count'] = df['comment_text'].apply(textstat.sentence_count)\n",
    "    features_df['comment_text_flesch_reading_ease'] = df['comment_text'].apply(textstat.flesch_reading_ease)\n",
    "    features_df['comment_text_flesch_kincaid_grade'] = df['comment_text'].apply(textstat.flesch_kincaid_grade)\n",
    "    \n",
    "    features_df['comment_text_syl_over_lex'] = features_df['comment_text_syl_count'] / features_df['comment_text_lex_count']\n",
    "    features_df['comment_text_lex_over_sent'] = features_df['comment_text_lex_count'] / features_df['comment_text_sent_count']\n",
    "    \n",
    "#         df.loc[:,'comment_len'] = df.loc[:,'comment_text'].apply(len)\n",
    "#         df.loc[:,'comment_avg_syllable'] = df.loc[:,'comment_text'].apply(average_syllable)\n",
    "#         df.loc[:,'comment_syllable'] = df.loc[:,'comment_text'].apply(textstat.syllable_count)\n",
    "#         df.loc[:,'comment_num_sent'] = df.loc[:, 'comment_text'].apply(textstat.sentence_count)\n",
    "#         df.loc[:, \"comment_word_per_sent\"] = df.loc[:, \"comment_text\"].apply(lambda x: textstat.lexicon_count(x) / textstat.sentence_count(x))\n",
    "#         df.loc[:,'comment_flesch_reading_ease'] = df.loc[:,'comment_text'].apply(textstat.flesch_reading_ease)\n",
    "#         df.loc[:,'comment_flesch_kincaid_grade'] = df.loc[:,'comment_text'].apply(textstat.flesch_kincaid_grade)\n",
    "    \n",
    "    return features_df"
   ]
  },
  {
   "cell_type": "code",
   "execution_count": 12,
   "metadata": {
    "ExecuteTime": {
     "end_time": "2017-12-26T09:47:21.042656Z",
     "start_time": "2017-12-26T09:47:20.922658Z"
    },
    "collapsed": true
   },
   "outputs": [],
   "source": [
    "train_textstat_features_file = '../data/train_textstat_features.csv'\n",
    "if os.path.isfile(train_textstat_features_file):\n",
    "    X_train_all_features_textstat = pd.read_csv(train_textstat_features_file, index_col=0)\n",
    "else:\n",
    "    X_train_all_features_textstat = extract_textstat_features(train_all)\n",
    "    X_train_all_features_textstat.to_csv(train_textstat_features_file)"
   ]
  },
  {
   "cell_type": "markdown",
   "metadata": {
    "ExecuteTime": {
     "end_time": "2017-12-25T03:21:02.663558Z",
     "start_time": "2017-12-25T03:21:02.123907Z"
    }
   },
   "source": [
    "## Split textstat features"
   ]
  },
  {
   "cell_type": "code",
   "execution_count": 13,
   "metadata": {
    "ExecuteTime": {
     "end_time": "2017-12-26T09:47:26.221980Z",
     "start_time": "2017-12-26T09:47:26.154981Z"
    },
    "collapsed": true
   },
   "outputs": [],
   "source": [
    "X_train_features_textstat = []\n",
    "X_test_features_textstat = []\n",
    "for i in range(cv_folds):\n",
    "    X_train_features_textstat.append(X_train_all_features_textstat.loc[cv_splits_train[i], :])\n",
    "    X_test_features_textstat.append(X_train_all_features_textstat.loc[cv_splits_test[i], :])"
   ]
  },
  {
   "cell_type": "markdown",
   "metadata": {},
   "source": [
    "## Extract BoW"
   ]
  },
  {
   "cell_type": "code",
   "execution_count": 14,
   "metadata": {
    "ExecuteTime": {
     "end_time": "2017-12-26T09:47:27.325625Z",
     "start_time": "2017-12-26T09:47:27.322624Z"
    },
    "collapsed": true
   },
   "outputs": [],
   "source": [
    "re_tok = re.compile('([{}“”¨«»®´·º½¾¿¡§£₤‘’])'.format(string.punctuation))\n",
    "def tokenize(s): return re_tok.sub(r' \\1 ', s).split()"
   ]
  },
  {
   "cell_type": "code",
   "execution_count": 15,
   "metadata": {
    "ExecuteTime": {
     "end_time": "2017-12-26T09:47:47.285744Z",
     "start_time": "2017-12-26T09:47:27.738746Z"
    },
    "collapsed": true
   },
   "outputs": [],
   "source": [
    "n = train_all.shape[0]\n",
    "vec = TfidfVectorizer(ngram_range=(1,2), tokenizer=tokenize,\n",
    "               min_df=3, max_df=0.9, strip_accents='unicode', use_idf=1,\n",
    "               smooth_idf=1, sublinear_tf=1 )\n",
    "train_term_doc = vec.fit_transform(train_all['comment_text'])"
   ]
  },
  {
   "cell_type": "code",
   "execution_count": 16,
   "metadata": {
    "ExecuteTime": {
     "end_time": "2017-12-26T09:47:48.077745Z",
     "start_time": "2017-12-26T09:47:47.286745Z"
    },
    "collapsed": true
   },
   "outputs": [],
   "source": [
    "X_train_features_bow = []\n",
    "X_test_features_bow = []\n",
    "for i in range(cv_folds):\n",
    "    X_train_features_bow.append(train_term_doc[cv_splits_train[i], :])\n",
    "    X_test_features_bow.append(train_term_doc[cv_splits_test[i], :])"
   ]
  },
  {
   "cell_type": "markdown",
   "metadata": {},
   "source": [
    "## Extract emotion scores"
   ]
  },
  {
   "cell_type": "code",
   "execution_count": 17,
   "metadata": {
    "ExecuteTime": {
     "end_time": "2017-12-26T09:47:48.086749Z",
     "start_time": "2017-12-26T09:47:48.078746Z"
    },
    "collapsed": true
   },
   "outputs": [],
   "source": [
    "emotion_lexicon_file = \"../data/features/NRC-AffectIntensity-Lexicon.txt\"\n",
    "emotion_lexicon = pd.read_csv(emotion_lexicon_file, sep = \"\\t\")"
   ]
  },
  {
   "cell_type": "code",
   "execution_count": 18,
   "metadata": {
    "ExecuteTime": {
     "end_time": "2017-12-26T09:47:48.099745Z",
     "start_time": "2017-12-26T09:47:48.087749Z"
    },
    "collapsed": true
   },
   "outputs": [],
   "source": [
    "emotion_term_score = {'anger': {}, 'fear': {}, 'joy': {}, 'sadness': {}}\n",
    "for row in emotion_lexicon.itertuples():\n",
    "    emotion_term_score[row.AffectDimension][row.term] = row.score"
   ]
  },
  {
   "cell_type": "code",
   "execution_count": 19,
   "metadata": {
    "ExecuteTime": {
     "end_time": "2017-12-26T09:47:48.111747Z",
     "start_time": "2017-12-26T09:47:48.100747Z"
    },
    "collapsed": true
   },
   "outputs": [],
   "source": [
    "translator = str.maketrans('', '', string.punctuation)\n",
    "emotions = ['anger', 'fear', 'joy', 'sadness']\n",
    "def avg_emotion_score(comment_text):\n",
    "    try:\n",
    "        comment_cleaned = comment_text.translate(translator)\n",
    "    except:\n",
    "        comment_cleaned = \"\"\n",
    "    comment_cleaned = comment_cleaned.lower()\n",
    "    comment_cleaned_words = comment_cleaned.split(\" \")\n",
    "    \n",
    "    emotion_scores = {'anger': 0, 'fear': 0, 'joy': 0, 'sadness': 0}\n",
    "    for emotion in emotions:\n",
    "        scores = [emotion_term_score[emotion].get(word) for word in comment_cleaned_words\n",
    "                    if emotion_term_score[emotion].get(word) is not None]\n",
    "        if len(scores) == 0:\n",
    "            continue\n",
    "        emotion_scores[emotion] = np.mean(scores)\n",
    "        \n",
    "    return [emotion_scores[emotion] for emotion in emotions]\n",
    "    \n",
    "def extract_emotion_features(df):\n",
    "    features_df = df['comment_text'].apply(avg_emotion_score)\n",
    "    return pd.DataFrame(features_df.values.tolist(), columns=['comment_text_emotion_{}'.format(emotion) for emotion in emotions])"
   ]
  },
  {
   "cell_type": "code",
   "execution_count": 20,
   "metadata": {
    "ExecuteTime": {
     "end_time": "2017-12-26T09:47:53.837746Z",
     "start_time": "2017-12-26T09:47:48.112747Z"
    },
    "collapsed": true
   },
   "outputs": [],
   "source": [
    "X_train_all_features_emotion = extract_emotion_features(train_all)"
   ]
  },
  {
   "cell_type": "code",
   "execution_count": 21,
   "metadata": {
    "ExecuteTime": {
     "end_time": "2017-12-26T09:47:53.880747Z",
     "start_time": "2017-12-26T09:47:53.838747Z"
    },
    "collapsed": true
   },
   "outputs": [],
   "source": [
    "X_train_features_emotion = []\n",
    "X_test_features_emotion = []\n",
    "for i in range(cv_folds):\n",
    "    X_train_features_emotion.append(X_train_all_features_emotion.loc[cv_splits_train[i], :])\n",
    "    X_test_features_emotion.append(X_train_all_features_emotion.loc[cv_splits_test[i], :])"
   ]
  },
  {
   "cell_type": "markdown",
   "metadata": {},
   "source": [
    "# Function to calculate mean column-wise log loss of y_pred vs y_actual"
   ]
  },
  {
   "cell_type": "code",
   "execution_count": 22,
   "metadata": {
    "ExecuteTime": {
     "end_time": "2017-12-26T09:47:56.278395Z",
     "start_time": "2017-12-26T09:47:56.274394Z"
    },
    "collapsed": true
   },
   "outputs": [],
   "source": [
    "def calculate_score(y_actual, y_pred):\n",
    "    col_log_loss = [log_loss(np.array(y_actual[label]),\n",
    "                             np.array([1.-np.array(y_pred[label]), np.array(y_pred[label])]).T) for label in labels]\n",
    "    return col_log_loss"
   ]
  },
  {
   "cell_type": "markdown",
   "metadata": {},
   "source": [
    "# Test classification scores"
   ]
  },
  {
   "cell_type": "markdown",
   "metadata": {},
   "source": [
    "## Perfect score"
   ]
  },
  {
   "cell_type": "code",
   "execution_count": 23,
   "metadata": {
    "ExecuteTime": {
     "end_time": "2017-12-26T09:47:57.386581Z",
     "start_time": "2017-12-26T09:47:57.362583Z"
    }
   },
   "outputs": [
    {
     "data": {
      "text/plain": [
       "9.9920072216264108e-16"
      ]
     },
     "execution_count": 23,
     "metadata": {},
     "output_type": "execute_result"
    }
   ],
   "source": [
    "np.mean(calculate_score(y_test[0], y_test[0]))"
   ]
  },
  {
   "cell_type": "markdown",
   "metadata": {},
   "source": [
    "## ZeroR"
   ]
  },
  {
   "cell_type": "code",
   "execution_count": 24,
   "metadata": {
    "ExecuteTime": {
     "end_time": "2017-12-26T09:47:59.705611Z",
     "start_time": "2017-12-26T09:47:59.611611Z"
    }
   },
   "outputs": [
    {
     "name": "stdout",
     "output_type": "stream",
     "text": [
      "[ 3.32844347  0.34772673  1.84096823  0.10990296  1.71701177  0.29331534]\n",
      "1.27289475201\n"
     ]
    }
   ],
   "source": [
    "scores_zeror = []\n",
    "for i in range(cv_folds):\n",
    "    data = np.array([np.zeros(len(labels))] * len(X_test[i]))\n",
    "    y_pred_zeror = pd.DataFrame(data, columns=labels)\n",
    "    scores = calculate_score(y_test[i], y_pred_zeror)\n",
    "    scores_zeror.append(scores)\n",
    "print(np.mean(scores_zeror, axis=0))\n",
    "print(np.mean(scores_zeror))"
   ]
  },
  {
   "cell_type": "markdown",
   "metadata": {
    "ExecuteTime": {
     "end_time": "2017-12-24T12:28:47.459632Z",
     "start_time": "2017-12-24T12:28:47.455633Z"
    }
   },
   "source": [
    "## All 0.5"
   ]
  },
  {
   "cell_type": "code",
   "execution_count": 25,
   "metadata": {
    "ExecuteTime": {
     "end_time": "2017-12-26T09:48:01.047932Z",
     "start_time": "2017-12-26T09:48:00.954929Z"
    }
   },
   "outputs": [
    {
     "name": "stdout",
     "output_type": "stream",
     "text": [
      "[ 0.69314718  0.69314718  0.69314718  0.69314718  0.69314718  0.69314718]\n",
      "0.69314718056\n"
     ]
    }
   ],
   "source": [
    "scores_half = []\n",
    "for i in range(cv_folds):\n",
    "    data = np.array([np.ones(len(labels))*0.5] * len(X_test[i]))\n",
    "    y_pred_half = pd.DataFrame(data, columns=labels)\n",
    "    scores = calculate_score(y_test[i], y_pred_half)\n",
    "    scores_half.append(scores)\n",
    "print(np.mean(scores_half, axis=0))\n",
    "print(np.mean(scores_half))"
   ]
  },
  {
   "cell_type": "markdown",
   "metadata": {},
   "source": [
    "## Test calculate_score"
   ]
  },
  {
   "cell_type": "code",
   "execution_count": 26,
   "metadata": {
    "ExecuteTime": {
     "end_time": "2017-12-26T09:48:02.851269Z",
     "start_time": "2017-12-26T09:48:02.754269Z"
    }
   },
   "outputs": [
    {
     "name": "stdout",
     "output_type": "stream",
     "text": [
      "[  0.69314718   0.91220862   1.15881057   1.6050267    2.19335539\n",
      "  34.24546105]\n",
      "6.80133491769\n"
     ]
    }
   ],
   "source": [
    "scores_half = []\n",
    "for i in range(cv_folds):\n",
    "    data = np.array([np.array([0.5, 0.6, 0.7, 0.8, 0.9, 1.0])] * len(X_test[i]))\n",
    "    y_pred_half = pd.DataFrame(data, columns=labels)\n",
    "    scores = calculate_score(y_test[i], y_pred_half)\n",
    "    scores_half.append(scores)\n",
    "print(np.mean(scores_half, axis=0))\n",
    "print(np.mean(scores_half))"
   ]
  },
  {
   "cell_type": "markdown",
   "metadata": {},
   "source": [
    "## Textstat features only"
   ]
  },
  {
   "cell_type": "code",
   "execution_count": 27,
   "metadata": {
    "ExecuteTime": {
     "end_time": "2017-12-26T09:48:05.946940Z",
     "start_time": "2017-12-26T09:48:05.939940Z"
    },
    "collapsed": true
   },
   "outputs": [],
   "source": [
    "classifiers_textstat = []\n",
    "# classifiers_textstat += [\n",
    "#     ('Logistic Regression {}'.format(c), lambda: LogisticRegression(solver=\"newton-cg\", C=2.0**c, max_iter=1000)) for c in np.arange(-3,4,1)]\n",
    "classifiers_textstat += [\n",
    "    ('Logistic Regression', lambda: LogisticRegression(solver=\"newton-cg\", C=2.0, max_iter=1000)),\n",
    "    \n",
    "    ('NB-SVM', lambda: NbSvmClassifier()),\n",
    "    \n",
    "    (\"Decision Tree\", lambda: DecisionTreeClassifier(max_depth=5)),\n",
    "    (\"Random Forest\", lambda: RandomForestClassifier(max_depth=5, n_estimators=10, max_features=1)),\n",
    "    (\"Extra Trees\", lambda: ExtraTreesClassifier(max_depth=5)),\n",
    "    (\"Gradient Boosting\", lambda: GradientBoostingClassifier()),\n",
    "    \n",
    "    # Does not perform too well, may need hyper parameter tuning\n",
    "    #     (\"Nearest Neighbors\", lambda: KNeighborsClassifier(131)),\n",
    "    #     (\"Naive Bayes\", lambda: GaussianNB()),\n",
    "    #     (\"Neural Net\", lambda: MLPClassifier(alpha=1)),\n",
    "    #     (\"AdaBoost\", lambda: AdaBoostClassifier()),\n",
    "    #     (\"QDA\", lambda: QuadraticDiscriminantAnalysis()),\n",
    "    \n",
    "    # Cannot even run\n",
    "    #     (\"Gaussian Process\", lambda: GaussianProcessClassifier(1.0 * RBF(1.0)))  # Memory error??? Even with 32GB ram???\n",
    "    #     (\"Linear SVM\", lambda: SVC(kernel=\"linear\", C=0.025)),                   # Slow like shit\n",
    "    #     (\"RBF SVM\", lambda: SVC(gamma=2, C=1))                                   # Slow like shit\n",
    "]"
   ]
  },
  {
   "cell_type": "code",
   "execution_count": 33,
   "metadata": {
    "ExecuteTime": {
     "end_time": "2017-12-26T09:54:59.490388Z",
     "start_time": "2017-12-26T09:52:09.676260Z"
    }
   },
   "outputs": [
    {
     "name": "stdout",
     "output_type": "stream",
     "text": [
      "Training with Logistic Regression\n"
     ]
    },
    {
     "name": "stderr",
     "output_type": "stream",
     "text": [
      "C:\\Anaconda3\\lib\\site-packages\\scipy\\optimize\\linesearch.py:414: LineSearchWarning: The line search algorithm did not converge\n",
      "  warn('The line search algorithm did not converge', LineSearchWarning)\n",
      "C:\\Anaconda3\\lib\\site-packages\\scipy\\optimize\\linesearch.py:285: LineSearchWarning: The line search algorithm did not converge\n",
      "  warn('The line search algorithm did not converge', LineSearchWarning)\n",
      "C:\\Anaconda3\\lib\\site-packages\\sklearn\\utils\\optimize.py:195: UserWarning: Line Search failed\n",
      "  warnings.warn('Line Search failed')\n",
      "C:\\Anaconda3\\lib\\site-packages\\sklearn\\linear_model\\base.py:340: RuntimeWarning: overflow encountered in exp\n",
      "  np.exp(prob, prob)\n"
     ]
    },
    {
     "name": "stdout",
     "output_type": "stream",
     "text": [
      "Column-wise log loss for Logistic Regression: [ 0.30794229  0.05469084  0.20307188  0.02067343  0.19241465  0.04878659] - 0.13792994630312155\n",
      "Training with NB-SVM\n",
      "Column-wise log loss for NB-SVM: [ 0.3088186   0.05477122  0.2064551   0.02241579  0.19257606  0.04878047] - 0.1389695399837736\n",
      "Training with Decision Tree\n",
      "Column-wise log loss for Decision Tree: [ 0.29664338  0.05876473  0.19443927  0.02251912  0.18707125  0.05133406] - 0.13512863452000448\n",
      "Training with Random Forest\n",
      "Column-wise log loss for Random Forest: [ 0.28864478  0.05000099  0.18833004  0.01977042  0.18025965  0.0464014 ] - 0.12890121405005844\n",
      "Training with Extra Trees\n",
      "Column-wise log loss for Extra Trees: [ 0.30802356  0.05347133  0.20226986  0.0211011   0.19282647  0.04805904] - 0.13762522740427266\n",
      "Training with Gradient Boosting\n",
      "Column-wise log loss for Gradient Boosting: [ 0.28496513  0.05051078  0.18617237  0.02208947  0.17856005  0.04840794] - 0.1284509573612043\n"
     ]
    }
   ],
   "source": [
    "clf_textstat = {}\n",
    "y_pred_textstat = {}\n",
    "scores_textstat = {}\n",
    "for classifier_name, classifier in classifiers_textstat:\n",
    "    print('Training with {}'.format(classifier_name))\n",
    "    clf_textstat[classifier_name] = [{}]*cv_folds\n",
    "    y_pred_textstat[classifier_name] = [{}]*cv_folds\n",
    "    scores_textstat[classifier_name] = [{}]*cv_folds\n",
    "    for fold in range(cv_folds):\n",
    "        y_pred_textstat[classifier_name][fold] = pd.DataFrame()\n",
    "        for label in labels:\n",
    "            clf_textstat[classifier_name][fold][label] = classifier()\n",
    "            clf_textstat[classifier_name][fold][label].fit(X_train_features_textstat[fold], y_train[fold][label])\n",
    "            \n",
    "            y_pred_textstat[classifier_name][fold][label] = clf_textstat[classifier_name][fold][label].predict_proba(X_test_features_textstat[fold]).T[1]\n",
    "            \n",
    "        scores = calculate_score(y_test[fold], y_pred_textstat[classifier_name][fold])\n",
    "        scores_textstat[classifier_name][fold] = scores\n",
    "    print('Column-wise log loss for {}: {} - {}'.format(classifier_name, np.mean(scores_textstat[classifier_name], axis=0), np.mean(scores_textstat[classifier_name])))"
   ]
  },
  {
   "cell_type": "markdown",
   "metadata": {},
   "source": [
    "# Emotion only"
   ]
  },
  {
   "cell_type": "code",
   "execution_count": 34,
   "metadata": {
    "ExecuteTime": {
     "end_time": "2017-12-26T09:56:55.075234Z",
     "start_time": "2017-12-26T09:56:55.067234Z"
    },
    "collapsed": true
   },
   "outputs": [],
   "source": [
    "classifiers_emotion = []\n",
    "classifiers_emotion += [\n",
    "    ('Logistic Regression', lambda: LogisticRegression(solver=\"newton-cg\", C=2.0, max_iter=1000)),\n",
    "    \n",
    "    ('NB-SVM', lambda: NbSvmClassifier()),\n",
    "    \n",
    "    (\"Decision Tree\", lambda: DecisionTreeClassifier(max_depth=5)),\n",
    "    (\"Random Forest\", lambda: RandomForestClassifier(max_depth=5, n_estimators=10, max_features=1)),\n",
    "    (\"Extra Trees\", lambda: ExtraTreesClassifier(max_depth=5)),\n",
    "    (\"Gradient Boosting\", lambda: GradientBoostingClassifier()),\n",
    "    \n",
    "    # Does not perform too well, may need hyper parameter tuning\n",
    "    #     (\"Nearest Neighbors\", lambda: KNeighborsClassifier(131)),\n",
    "    #     (\"Naive Bayes\", lambda: GaussianNB()),\n",
    "    #     (\"Neural Net\", lambda: MLPClassifier(alpha=1)),\n",
    "    #     (\"AdaBoost\", lambda: AdaBoostClassifier()),\n",
    "    #     (\"QDA\", lambda: QuadraticDiscriminantAnalysis()),\n",
    "    \n",
    "]"
   ]
  },
  {
   "cell_type": "code",
   "execution_count": 35,
   "metadata": {
    "ExecuteTime": {
     "end_time": "2017-12-26T09:57:53.100239Z",
     "start_time": "2017-12-26T09:56:55.811394Z"
    }
   },
   "outputs": [
    {
     "name": "stdout",
     "output_type": "stream",
     "text": [
      "Training with Logistic Regression\n",
      "Column-wise log loss for Logistic Regression: [ 0.30281782  0.05346437  0.19816069  0.01778966  0.18850244  0.04790268] - 0.13477294240101637\n",
      "Training with NB-SVM\n",
      "Column-wise log loss for NB-SVM: [ 0.30284635  0.05354436  0.19828223  0.0178291   0.18855963  0.04798816] - 0.13484163988018344\n",
      "Training with Decision Tree\n",
      "Column-wise log loss for Decision Tree: [ 0.29119536  0.05792187  0.1897252   0.02283176  0.18021672  0.05319166] - 0.1325137627182451\n",
      "Training with Random Forest\n",
      "Column-wise log loss for Random Forest: [ 0.28915403  0.05011628  0.18697609  0.01669613  0.17832108  0.04682818] - 0.1280152994526549\n",
      "Training with Extra Trees\n",
      "Column-wise log loss for Extra Trees: [ 0.2965821   0.05189271  0.19287636  0.01693412  0.18453332  0.04727002] - 0.1316814358144425\n",
      "Training with Gradient Boosting\n",
      "Column-wise log loss for Gradient Boosting: [ 0.28031718  0.05082792  0.17995954  0.02624012  0.17276956  0.04804572] - 0.1263600061065549\n"
     ]
    }
   ],
   "source": [
    "clf_emotion = {}\n",
    "y_pred_emotion = {}\n",
    "scores_emotion = {}\n",
    "for classifier_name, classifier in classifiers_emotion:\n",
    "    print('Training with {}'.format(classifier_name))\n",
    "    clf_emotion[classifier_name] = [{}]*cv_folds\n",
    "    y_pred_emotion[classifier_name] = [{}]*cv_folds\n",
    "    scores_emotion[classifier_name] = [{}]*cv_folds\n",
    "    for fold in range(cv_folds):\n",
    "        y_pred_emotion[classifier_name][fold] = pd.DataFrame()\n",
    "        for label in labels:\n",
    "            clf_emotion[classifier_name][fold][label] = classifier()\n",
    "            clf_emotion[classifier_name][fold][label].fit(X_train_features_emotion[fold], y_train[fold][label])\n",
    "\n",
    "            y_pred_emotion[classifier_name][fold][label] = clf_emotion[classifier_name][fold][label].predict_proba(X_test_features_emotion[fold]).T[1]\n",
    "\n",
    "        scores = calculate_score(y_test[fold], y_pred_emotion[classifier_name][fold])\n",
    "        scores_emotion[classifier_name][fold] = scores\n",
    "    print('Column-wise log loss for {}: {} - {}'.format(classifier_name, np.mean(scores_emotion[classifier_name], axis=0), np.mean(scores_emotion[classifier_name])))"
   ]
  },
  {
   "cell_type": "markdown",
   "metadata": {},
   "source": [
    "## Textstat + emotion"
   ]
  },
  {
   "cell_type": "code",
   "execution_count": 36,
   "metadata": {
    "ExecuteTime": {
     "end_time": "2017-12-26T09:57:53.107240Z",
     "start_time": "2017-12-26T09:57:53.101240Z"
    },
    "collapsed": true
   },
   "outputs": [],
   "source": [
    "classifiers_textstat_emotion = []\n",
    "classifiers_textstat_emotion += [\n",
    "    ('Logistic Regression', lambda: LogisticRegression(solver=\"newton-cg\", C=2.0, max_iter=1000)),\n",
    "    \n",
    "    ('NB-SVM', lambda: NbSvmClassifier()),\n",
    "    \n",
    "    (\"Decision Tree\", lambda: DecisionTreeClassifier(max_depth=5)),\n",
    "    (\"Random Forest\", lambda: RandomForestClassifier(max_depth=5, n_estimators=10, max_features=1)),\n",
    "    (\"Extra Trees\", lambda: ExtraTreeslambda: Classifier(max_depth=5)),\n",
    "    (\"Gradient Boosting\", lambda: GradientBoostingClassifier()),\n",
    "    \n",
    "    # Does not perform too well, may need hyper parameter tuning\n",
    "    #     (\"Nearest Neighbors\", lambda: KNeighborsClassifier(131)),\n",
    "    #     (\"Naive Bayes\", lambda: GaussianNB()),\n",
    "    #     (\"Neural Net\", lambda: MLPClassifier(alpha=1)),\n",
    "    #     (\"AdaBoost\", lambda: AdaBoostClassifier()),\n",
    "    #     (\"QDA\", lambda: QuadraticDiscriminantAnalysis()),\n",
    "    \n",
    "]"
   ]
  },
  {
   "cell_type": "code",
   "execution_count": 37,
   "metadata": {
    "ExecuteTime": {
     "end_time": "2017-12-26T09:57:53.146239Z",
     "start_time": "2017-12-26T09:57:53.108239Z"
    }
   },
   "outputs": [
    {
     "name": "stdout",
     "output_type": "stream",
     "text": [
      "(76680, 8)\n",
      "(76680, 4)\n",
      "(76680, 12)\n"
     ]
    }
   ],
   "source": [
    "# concat features\n",
    "X_train_features_textstat_emotion = [None]*cv_folds\n",
    "X_test_features_textstat_emotion = [None]*cv_folds\n",
    "for fold in range(cv_folds):\n",
    "    X_train_features_textstat_emotion[fold] = np.hstack((X_train_features_textstat[fold], X_train_features_emotion[fold].values))\n",
    "    X_test_features_textstat_emotion[fold] = np.hstack((X_test_features_textstat[fold], X_test_features_emotion[fold].values))\n",
    "\n",
    "print(X_train_features_textstat[0].shape)\n",
    "print(X_train_features_emotion[0].shape)\n",
    "print(X_train_features_textstat_emotion[0].shape)"
   ]
  },
  {
   "cell_type": "code",
   "execution_count": 38,
   "metadata": {
    "ExecuteTime": {
     "end_time": "2017-12-26T10:02:17.177024Z",
     "start_time": "2017-12-26T09:57:53.147240Z"
    }
   },
   "outputs": [
    {
     "name": "stdout",
     "output_type": "stream",
     "text": [
      "Training with Logistic Regression\n"
     ]
    },
    {
     "name": "stderr",
     "output_type": "stream",
     "text": [
      "C:\\Anaconda3\\lib\\site-packages\\scipy\\optimize\\linesearch.py:414: LineSearchWarning: The line search algorithm did not converge\n",
      "  warn('The line search algorithm did not converge', LineSearchWarning)\n",
      "C:\\Anaconda3\\lib\\site-packages\\scipy\\optimize\\linesearch.py:285: LineSearchWarning: The line search algorithm did not converge\n",
      "  warn('The line search algorithm did not converge', LineSearchWarning)\n",
      "C:\\Anaconda3\\lib\\site-packages\\sklearn\\utils\\optimize.py:195: UserWarning: Line Search failed\n",
      "  warnings.warn('Line Search failed')\n"
     ]
    },
    {
     "name": "stdout",
     "output_type": "stream",
     "text": [
      "Column-wise log loss for Logistic Regression: [ 0.29033679  0.05177318  0.19207388  0.01697266  0.18157816  0.04752037] - 0.13004250616136864\n",
      "Training with NB-SVM\n",
      "Column-wise log loss for NB-SVM: [ 0.29464626  0.05191786  0.19800408  0.02284097  0.18207067  0.04755327] - 0.13283885191981842\n",
      "Training with Decision Tree\n",
      "Column-wise log loss for Decision Tree: [ 0.27283879  0.05568164  0.17735648  0.02070593  0.17172848  0.05227849] - 0.12509830237204234\n",
      "Training with Random Forest\n",
      "Column-wise log loss for Random Forest: [ 0.27397721  0.04776043  0.17894093  0.01656611  0.17107763  0.04546845] - 0.12229846011036805\n",
      "Training with Extra Trees\n",
      "Column-wise log loss for Extra Trees: [ 0.29267864  0.05099159  0.19224774  0.01751213  0.18423401  0.04737975] - 0.13084064269916476\n",
      "Training with Gradient Boosting\n",
      "Column-wise log loss for Gradient Boosting: [ 0.2547657   0.04662796  0.1659162   0.02121334  0.16029433  0.04724113] - 0.1160097776950937\n"
     ]
    }
   ],
   "source": [
    "clf_textstat_emotion = {}\n",
    "y_pred_textstat_emotion = {}\n",
    "scores_textstat_emotion = {}\n",
    "for classifier_name, classifier in classifiers_textstat_emotion:\n",
    "    print('Training with {}'.format(classifier_name))\n",
    "    clf_textstat_emotion[classifier_name] = [{}]*cv_folds\n",
    "    y_pred_textstat_emotion[classifier_name] = [{}]*cv_folds\n",
    "    scores_textstat_emotion[classifier_name] = [{}]*cv_folds\n",
    "    for fold in range(cv_folds):\n",
    "        y_pred_textstat_emotion[classifier_name][fold] = pd.DataFrame()\n",
    "        for label in labels:\n",
    "            clf_textstat_emotion[classifier_name][fold][label] = classifier()\n",
    "            clf_textstat_emotion[classifier_name][fold][label].fit(X_train_features_textstat_emotion[fold], y_train[fold][label])\n",
    "\n",
    "            y_pred_textstat_emotion[classifier_name][fold][label] = clf_textstat_emotion[classifier_name][fold][label].predict_proba(X_test_features_textstat_emotion[fold]).T[1]\n",
    "\n",
    "        scores = calculate_score(y_test[fold], y_pred_textstat_emotion[classifier_name][fold])\n",
    "        scores_textstat_emotion[classifier_name][fold] = scores\n",
    "    print('Column-wise log loss for {}: {} - {}'.format(classifier_name, np.mean(scores_textstat_emotion[classifier_name], axis=0), np.mean(scores_textstat_emotion[classifier_name])))"
   ]
  },
  {
   "cell_type": "markdown",
   "metadata": {
    "collapsed": true
   },
   "source": [
    "## Bag of words only"
   ]
  },
  {
   "cell_type": "code",
   "execution_count": 39,
   "metadata": {
    "ExecuteTime": {
     "end_time": "2017-12-26T10:02:17.187023Z",
     "start_time": "2017-12-26T10:02:17.178025Z"
    },
    "collapsed": true
   },
   "outputs": [],
   "source": [
    "classifiers_bow = [\n",
    "    ('Logistic Regression', lambda: LogisticRegression(solver=\"newton-cg\", C=2.0, max_iter=1000)),\n",
    "    \n",
    "    ('NB-SVM 2', lambda: NbSvmClassifier(C=4, dual=True)),\n",
    "    ('NB-SVM', lambda: NbSvmClassifier()),\n",
    "    \n",
    "    (\"Decision Tree\", lambda: DecisionTreeClassifier(max_depth=5)),\n",
    "    (\"Random Forest\", lambda: RandomForestClassifier(max_depth=5, n_estimators=10, max_features=1)),\n",
    "    (\"Extra Trees\", lambda: ExtraTreesClassifier(max_depth=5)),\n",
    "    \n",
    "    #     (\"Gradient Boosting\", lambda: GradientBoostingClassifier()),           # Sloooow\n",
    "    \n",
    "    # Does not perform too well, may need hyper parameter tuning\n",
    "    #     (\"Nearest Neighbors\", lambda: KNeighborsClassifier(131)),\n",
    "    #     (\"Naive Bayes\", lambda: GaussianNB()),\n",
    "    #     (\"Neural Net\", lambda: MLPClassifier(alpha=1)),\n",
    "    #     (\"AdaBoost\", lambda: AdaBoostClassifier()),\n",
    "    #     (\"QDA\", lambda: QuadraticDiscriminantAnalysis()),\n",
    "]"
   ]
  },
  {
   "cell_type": "code",
   "execution_count": 40,
   "metadata": {
    "ExecuteTime": {
     "end_time": "2017-12-26T10:13:40.682279Z",
     "start_time": "2017-12-26T10:02:17.188024Z"
    }
   },
   "outputs": [
    {
     "name": "stdout",
     "output_type": "stream",
     "text": [
      "Training with Logistic Regression\n",
      "Fold 0\n",
      "Fold 1\n",
      "Fold 2\n",
      "Fold 3\n",
      "Fold 4\n",
      "Column-wise log loss for Logistic Regression: [ 0.12359399  0.02828408  0.07265129  0.01201408  0.08213134  0.02879822] - 0.05791216907554267\n",
      "Training with NB-SVM 2\n",
      "Fold 0\n",
      "Fold 1\n",
      "Fold 2\n",
      "Fold 3\n",
      "Fold 4\n",
      "Column-wise log loss for NB-SVM 2: [ 0.10573381  0.03360432  0.06352179  0.01242645  0.08139436  0.03061778] - 0.054549752566824365\n",
      "Training with NB-SVM\n",
      "Fold 0\n",
      "Fold 1\n",
      "Fold 2\n",
      "Fold 3\n",
      "Fold 4\n",
      "Column-wise log loss for NB-SVM: [ 0.10984278  0.02989426  0.06178523  0.01158265  0.07788519  0.0280709 ] - 0.053176833214058444\n",
      "Training with Decision Tree\n",
      "Fold 0\n",
      "Fold 1\n",
      "Fold 2\n",
      "Fold 3\n",
      "Fold 4\n",
      "Column-wise log loss for Decision Tree: [ 0.25173574  0.04746888  0.13167932  0.02264682  0.14923202  0.04553562] - 0.10804973374567567\n",
      "Training with Random Forest\n",
      "Fold 0\n",
      "Fold 1\n",
      "Fold 2\n",
      "Fold 3\n",
      "Fold 4\n",
      "Column-wise log loss for Random Forest: [ 0.3169088   0.05632756  0.20790394  0.02147864  0.19725372  0.04893481] - 0.14146791095929903\n",
      "Training with Extra Trees\n",
      "Fold 0\n",
      "Fold 1\n",
      "Fold 2\n",
      "Fold 3\n",
      "Fold 4\n",
      "Column-wise log loss for Extra Trees: [ 0.31020822  0.05458641  0.20110533  0.02065861  0.19128148  0.04809247] - 0.13765541930741151\n"
     ]
    }
   ],
   "source": [
    "clf_bow = {}\n",
    "y_pred_bow = {}\n",
    "scores_bow = {}\n",
    "for classifier_name, classifier in classifiers_bow:\n",
    "    print('Training with {}'.format(classifier_name))\n",
    "    clf_bow[classifier_name] = [{}]*cv_folds\n",
    "    y_pred_bow[classifier_name] = [{}]*cv_folds\n",
    "    scores_bow[classifier_name] = [{}]*cv_folds\n",
    "    for fold in range(cv_folds):\n",
    "        print('Fold {}'.format(fold))\n",
    "        y_pred_bow[classifier_name][fold] = pd.DataFrame()\n",
    "        for label in labels:\n",
    "            clf_bow[classifier_name][fold][label] = classifier()\n",
    "            clf_bow[classifier_name][fold][label].fit(X_train_features_bow[fold], y_train[fold][label])\n",
    "\n",
    "            y_pred_bow[classifier_name][fold][label] = clf_bow[classifier_name][fold][label].predict_proba(X_test_features_bow[fold]).T[1]\n",
    "\n",
    "        scores = calculate_score(y_test[fold], y_pred_bow[classifier_name][fold])\n",
    "        scores_bow[classifier_name][fold] = scores\n",
    "    print('Column-wise log loss for {}: {} - {}'.format(classifier_name, np.mean(scores_bow[classifier_name], axis=0), np.mean(scores_bow[classifier_name])))"
   ]
  },
  {
   "cell_type": "markdown",
   "metadata": {
    "collapsed": true
   },
   "source": [
    "## Bag of words + textstat"
   ]
  },
  {
   "cell_type": "code",
   "execution_count": 50,
   "metadata": {
    "ExecuteTime": {
     "end_time": "2017-12-26T10:49:05.188925Z",
     "start_time": "2017-12-26T10:49:05.182925Z"
    },
    "collapsed": true
   },
   "outputs": [],
   "source": [
    "classifiers_bow_textstat = [\n",
    "#     ('Logistic Regression', lambda: LogisticRegression(solver=\"newton-cg\", C=2.0, max_iter=1000)), # Slooooow! Why??\n",
    "    \n",
    "#     ('NB-SVM 2', lambda: NbSvmClassifier(C=4, dual=True)),\n",
    "#     ('NB-SVM', lambda: NbSvmClassifier()),\n",
    "    \n",
    "    (\"Decision Tree\", lambda: DecisionTreeClassifier(max_depth=5)),\n",
    "    (\"Random Forest\", lambda: RandomForestClassifier(max_depth=5, n_estimators=10, max_features=1)),\n",
    "    (\"Extra Trees\", lambda: ExtraTreesClassifier(max_depth=5)),\n",
    "    \n",
    "    #     (\"Gradient Boosting\", lambda: GradientBoostingClassifier()),           # Sloooow\n",
    "    \n",
    "    # Does not perform too well, may need hyper parameter tuning\n",
    "    #     (\"Nearest Neighbors\", lambda: KNeighborsClassifier(131)),\n",
    "    #     (\"Naive Bayes\", lambda: GaussianNB()),\n",
    "    #     (\"Neural Net\", lambda: MLPClassifier(alpha=1)),\n",
    "    #     (\"AdaBoost\", lambda: AdaBoostClassifier()),\n",
    "    #     (\"QDA\", lambda: QuadraticDiscriminantAnalysis()),\n",
    "]"
   ]
  },
  {
   "cell_type": "code",
   "execution_count": 51,
   "metadata": {
    "ExecuteTime": {
     "end_time": "2017-12-26T10:49:07.221985Z",
     "start_time": "2017-12-26T10:49:06.013986Z"
    }
   },
   "outputs": [
    {
     "name": "stdout",
     "output_type": "stream",
     "text": [
      "(76680, 285100)\n",
      "(76680, 8)\n",
      "(76680, 285108)\n"
     ]
    }
   ],
   "source": [
    "# concat features\n",
    "X_train_features_bow_textstat = [None]*cv_folds\n",
    "X_test_features_bow_textstat = [None]*cv_folds\n",
    "for fold in range(cv_folds):\n",
    "    X_train_features_bow_textstat[fold] = hstack((X_train_features_bow[fold], X_train_features_textstat[fold].values))\n",
    "    X_test_features_bow_textstat[fold] = hstack((X_test_features_bow[fold], X_test_features_textstat[fold].values))\n",
    "\n",
    "print(X_train_features_bow[0].shape)\n",
    "print(X_train_features_textstat[0].shape)\n",
    "print(X_train_features_bow_textstat[0].shape)"
   ]
  },
  {
   "cell_type": "code",
   "execution_count": 52,
   "metadata": {
    "ExecuteTime": {
     "end_time": "2017-12-26T10:52:04.113729Z",
     "start_time": "2017-12-26T10:49:09.568087Z"
    }
   },
   "outputs": [
    {
     "name": "stdout",
     "output_type": "stream",
     "text": [
      "Training with Decision Tree\n",
      "Fold 0\n",
      "Fold 1\n",
      "Fold 2\n",
      "Fold 3\n",
      "Fold 4\n",
      "Column-wise log loss for Decision Tree: [ 0.25068726  0.04770229  0.13236065  0.0241218   0.14983967  0.04600826] - 0.10845332202417264\n",
      "Training with Random Forest\n",
      "Fold 0\n",
      "Fold 1\n",
      "Fold 2\n",
      "Fold 3\n",
      "Fold 4\n",
      "Column-wise log loss for Random Forest: [ 0.31686288  0.05630328  0.2080952   0.02148042  0.1976552   0.04895261] - 0.14155826494408374\n",
      "Training with Extra Trees\n",
      "Fold 0\n",
      "Fold 1\n",
      "Fold 2\n",
      "Fold 3\n",
      "Fold 4\n",
      "Column-wise log loss for Extra Trees: [ 0.31078971  0.05465875  0.20224768  0.02050163  0.18999523  0.04755232] - 0.1376242203721537\n"
     ]
    }
   ],
   "source": [
    "clf_bow_textstat = {}\n",
    "y_pred_bow_textstat = {}\n",
    "scores_bow_textstat = {}\n",
    "\n",
    "for classifier_name, classifier in classifiers_bow_textstat:\n",
    "    print('Training with {}'.format(classifier_name))\n",
    "    clf_bow_textstat[classifier_name] = [{}]*cv_folds\n",
    "    y_pred_bow_textstat[classifier_name] = [{}]*cv_folds\n",
    "    scores_bow_textstat[classifier_name] = [{}]*cv_folds\n",
    "    for fold in range(cv_folds):\n",
    "        print('Fold {}'.format(fold))\n",
    "        y_pred_bow_textstat[classifier_name][fold] = pd.DataFrame()\n",
    "        for label in labels:\n",
    "            clf_bow_textstat[classifier_name][fold][label] = classifier()\n",
    "            clf_bow_textstat[classifier_name][fold][label].fit(X_train_features_bow_textstat[fold], y_train[fold][label])\n",
    "\n",
    "            y_pred_bow_textstat[classifier_name][fold][label] = clf_bow_textstat[classifier_name][fold][label].predict_proba(X_test_features_bow_textstat[fold]).T[1]\n",
    "\n",
    "        scores = calculate_score(y_test[fold], y_pred_bow_textstat[classifier_name][fold])\n",
    "        scores_bow_textstat[classifier_name][fold] = scores\n",
    "    print('Column-wise log loss for {}: {} - {}'.format(classifier_name, np.mean(scores_bow_textstat[classifier_name], axis=0), np.mean(scores_bow_textstat[classifier_name])))"
   ]
  },
  {
   "cell_type": "markdown",
   "metadata": {},
   "source": [
    "Training with Logistic Regression\n",
    "Fold 0\n",
    "Fold 1\n",
    "Fold 2\n",
    "Fold 3\n",
    "Fold 4\n",
    "Column-wise log loss for Logistic Regression: [ 0.12352003  0.02783171  0.07256627  0.01234592  0.08213656  0.0289028 ] - 0.057883879582133674\n",
    "Training with NB-SVM 2\n",
    "Fold 0\n",
    "---------------------------------------------------------------------------\n",
    "C:\\Users\\Low WeiLin\\Documents\\Code\\toxic-comment-classification\\src\\NbSvmClassifier.py in pr(x, y_i, y)\n",
    "     40 \n",
    "     41         def pr(x, y_i, y):\n",
    "---> 42             p = x[y==y_i].sum(0)\n",
    "     43             return (p+1) / ((y==y_i).sum()+1)\n",
    "     44         self._r = np.log(pr(x,1,y) / pr(x,0,y))\n",
    "\n",
    "TypeError: only integer scalar arrays can be converted to a scalar index"
   ]
  },
  {
   "cell_type": "markdown",
   "metadata": {
    "collapsed": true
   },
   "source": [
    "## Bag of words + textstat + emotion"
   ]
  },
  {
   "cell_type": "code",
   "execution_count": 53,
   "metadata": {
    "ExecuteTime": {
     "end_time": "2017-12-26T10:54:25.693469Z",
     "start_time": "2017-12-26T10:54:25.686472Z"
    },
    "collapsed": true
   },
   "outputs": [],
   "source": [
    "classifiers_bow_textstat_emotion = [\n",
    "    ('Logistic Regression', lambda: LogisticRegression(solver=\"newton-cg\", C=2.0, max_iter=1000)), # Slooooow! Why??\n",
    "    \n",
    "    (\"Decision Tree\", lambda: DecisionTreeClassifier()),\n",
    "    (\"Random Forest\", lambda: RandomForestClassifier()),\n",
    "    (\"Extra Trees\", lambda: ExtraTreesClassifier()),\n",
    "    \n",
    "    # Does not perform too well, may need hyper parameter tuning\n",
    "    #     (\"Nearest Neighbors\", lambda: KNeighborsClassifier(131)),\n",
    "    #     (\"Naive Bayes\", lambda: GaussianNB()),\n",
    "    #     (\"Neural Net\", lambda: MLPClassifier(alpha=1)),\n",
    "    #     (\"AdaBoost\", lambda: AdaBoostClassifier()),\n",
    "    #     (\"QDA\", lambda: QuadraticDiscriminantAnalysis()),\n",
    "]"
   ]
  },
  {
   "cell_type": "code",
   "execution_count": 54,
   "metadata": {
    "ExecuteTime": {
     "end_time": "2017-12-26T10:55:43.200107Z",
     "start_time": "2017-12-26T10:55:42.047107Z"
    }
   },
   "outputs": [
    {
     "name": "stdout",
     "output_type": "stream",
     "text": [
      "(76680, 285100)\n",
      "(76680, 8)\n",
      "(76680, 4)\n",
      "(76680, 285112)\n"
     ]
    }
   ],
   "source": [
    "# concat features\n",
    "X_train_features_bow_textstat_emotion = [None]*cv_folds\n",
    "X_test_features_bow_textstat_emotion = [None]*cv_folds\n",
    "for fold in range(cv_folds):\n",
    "    X_train_features_bow_textstat_emotion[fold] = hstack((X_train_features_bow[fold], X_train_features_textstat[fold].values, X_train_features_emotion[fold].values))\n",
    "    X_test_features_bow_textstat_emotion[fold] = hstack((X_test_features_bow[fold], X_test_features_textstat[fold].values, X_test_features_emotion[fold].values))\n",
    "\n",
    "print(X_train_features_bow[0].shape)\n",
    "print(X_train_features_textstat[0].shape)\n",
    "print(X_train_features_emotion[0].shape)\n",
    "print(X_train_features_bow_textstat_emotion[0].shape)"
   ]
  },
  {
   "cell_type": "code",
   "execution_count": 55,
   "metadata": {
    "ExecuteTime": {
     "end_time": "2017-12-26T13:47:28.703148Z",
     "start_time": "2017-12-26T10:57:02.870296Z"
    }
   },
   "outputs": [
    {
     "name": "stdout",
     "output_type": "stream",
     "text": [
      "Training with Logistic Regression\n",
      "Fold 0\n",
      "Fold 1\n",
      "Fold 2\n",
      "Fold 3\n",
      "Fold 4\n",
      "Column-wise log loss for Logistic Regression: [ 0.12185255  0.02761395  0.0719265   0.01136909  0.08155415  0.02864128] - 0.05715958636594785\n",
      "Training with Decision Tree\n",
      "Fold 0\n",
      "Fold 1\n",
      "Fold 2\n",
      "Fold 3\n",
      "Fold 4\n",
      "Column-wise log loss for Decision Tree: [ 2.18076677  0.45943146  0.93726288  0.15602615  1.39595742  0.40610127] - 0.92259099000155\n",
      "Training with Random Forest\n",
      "Fold 0\n",
      "Fold 1\n",
      "Fold 2\n",
      "Fold 3\n",
      "Fold 4\n",
      "Column-wise log loss for Random Forest: [ 0.42593906  0.11274696  0.21027722  0.05634246  0.24891257  0.14090212] - 0.19918673038733836\n",
      "Training with Extra Trees\n",
      "Fold 0\n",
      "Fold 1\n",
      "Fold 2\n",
      "Fold 3\n",
      "Fold 4\n",
      "Column-wise log loss for Extra Trees: [ 0.38588522  0.10994773  0.18596305  0.05088959  0.24099076  0.13203048] - 0.18428447077487053\n"
     ]
    }
   ],
   "source": [
    "clf_bow_textstat_emotion = {}\n",
    "y_pred_bow_textstat_emotion = {}\n",
    "scores_bow_textstat_emotion = {}\n",
    "\n",
    "for classifier_name, classifier in classifiers_bow_textstat_emotion:\n",
    "    print('Training with {}'.format(classifier_name))\n",
    "    clf_bow_textstat_emotion[classifier_name] = [{}]*cv_folds\n",
    "    y_pred_bow_textstat_emotion[classifier_name] = [{}]*cv_folds\n",
    "    scores_bow_textstat_emotion[classifier_name] = [{}]*cv_folds\n",
    "    for fold in range(cv_folds):\n",
    "        print('Fold {}'.format(fold))\n",
    "        y_pred_bow_textstat_emotion[classifier_name][fold] = pd.DataFrame()\n",
    "        for label in labels:\n",
    "            clf_bow_textstat_emotion[classifier_name][fold][label] = classifier()\n",
    "            clf_bow_textstat_emotion[classifier_name][fold][label].fit(X_train_features_bow_textstat_emotion[fold], y_train[fold][label])\n",
    "\n",
    "            y_pred_bow_textstat_emotion[classifier_name][fold][label] = clf_bow_textstat_emotion[classifier_name][fold][label].predict_proba(X_test_features_bow_textstat_emotion[fold]).T[1]\n",
    "\n",
    "        scores = calculate_score(y_test[fold], y_pred_bow_textstat_emotion[classifier_name][fold])\n",
    "        scores_bow_textstat_emotion[classifier_name][fold] = scores\n",
    "    print('Column-wise log loss for {}: {} - {}'.format(classifier_name, np.mean(scores_bow_textstat_emotion[classifier_name], axis=0), np.mean(scores_bow_textstat_emotion[classifier_name])))"
   ]
  },
  {
   "cell_type": "code",
   "execution_count": null,
   "metadata": {
    "collapsed": true
   },
   "outputs": [],
   "source": []
  }
 ],
 "metadata": {
  "kernelspec": {
   "display_name": "Python 3",
   "language": "python",
   "name": "python3"
  },
  "language_info": {
   "codemirror_mode": {
    "name": "ipython",
    "version": 3
   },
   "file_extension": ".py",
   "mimetype": "text/x-python",
   "name": "python",
   "nbconvert_exporter": "python",
   "pygments_lexer": "ipython3",
   "version": "3.5.3"
  }
 },
 "nbformat": 4,
 "nbformat_minor": 2
}
