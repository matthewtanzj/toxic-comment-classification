{
 "cells": [
  {
   "cell_type": "code",
   "execution_count": 1,
   "metadata": {
    "ExecuteTime": {
     "end_time": "2017-12-29T08:46:31.507327Z",
     "start_time": "2017-12-29T08:46:27.284246Z"
    },
    "collapsed": true
   },
   "outputs": [],
   "source": [
    "import os\n",
    "import numpy as np\n",
    "import pandas as pd\n",
    "\n",
    "from textstat.textstat import textstat\n",
    "\n",
    "from sklearn.model_selection import KFold\n",
    "from sklearn.metrics import log_loss\n",
    "from scipy.sparse import hstack\n",
    "\n",
    "# Classifiers\n",
    "from sklearn.neural_network import MLPClassifier\n",
    "from sklearn.neighbors import KNeighborsClassifier\n",
    "from sklearn.svm import SVC\n",
    "from sklearn.gaussian_process import GaussianProcessClassifier\n",
    "from sklearn.gaussian_process.kernels import RBF\n",
    "from sklearn.tree import DecisionTreeClassifier\n",
    "from sklearn.ensemble import RandomForestClassifier, AdaBoostClassifier, ExtraTreesClassifier, GradientBoostingClassifier\n",
    "from sklearn.naive_bayes import GaussianNB, MultinomialNB\n",
    "from sklearn.discriminant_analysis import QuadraticDiscriminantAnalysis\n",
    "from sklearn.linear_model import LogisticRegression\n",
    "\n",
    "from NbSvmClassifier import NbSvmClassifier\n",
    "import xgboost as xgb\n",
    "\n",
    "\n",
    "# BoW feature extraction\n",
    "import re, string\n",
    "from sklearn.feature_extraction.text import CountVectorizer\n",
    "from sklearn.feature_extraction.text import TfidfTransformer\n",
    "from sklearn.feature_extraction.text import TfidfVectorizer"
   ]
  },
  {
   "cell_type": "code",
   "execution_count": 2,
   "metadata": {
    "ExecuteTime": {
     "end_time": "2017-12-29T08:46:33.092846Z",
     "start_time": "2017-12-29T08:46:31.508327Z"
    },
    "collapsed": true
   },
   "outputs": [],
   "source": [
    "train_file = '../data/train.csv'\n",
    "test_file = '../data/test.csv'\n",
    "sample_submission_file = '../data/sample_submission.csv'\n",
    "\n",
    "train_all = pd.read_csv(train_file)\n",
    "test_for_submission = pd.read_csv(test_file)\n",
    "sample_submission = pd.read_csv(sample_submission_file)"
   ]
  },
  {
   "cell_type": "markdown",
   "metadata": {},
   "source": [
    "# Clean data"
   ]
  },
  {
   "cell_type": "markdown",
   "metadata": {},
   "source": [
    "TODO: Account for more cases"
   ]
  },
  {
   "cell_type": "code",
   "execution_count": 3,
   "metadata": {
    "ExecuteTime": {
     "end_time": "2017-12-29T08:46:33.123845Z",
     "start_time": "2017-12-29T08:46:33.093846Z"
    },
    "collapsed": true
   },
   "outputs": [],
   "source": [
    "train_all['comment_text'].fillna(\"unknown\", inplace=True)\n",
    "test_for_submission['comment_text'].fillna(\"unknown\", inplace=True)"
   ]
  },
  {
   "cell_type": "markdown",
   "metadata": {},
   "source": [
    "# Split train data"
   ]
  },
  {
   "cell_type": "code",
   "execution_count": 4,
   "metadata": {
    "ExecuteTime": {
     "end_time": "2017-12-29T08:46:33.130845Z",
     "start_time": "2017-12-29T08:46:33.124846Z"
    },
    "collapsed": true
   },
   "outputs": [],
   "source": [
    "kf = KFold(n_splits=5, random_state=0)\n",
    "cv_splits_train = []\n",
    "cv_splits_test = []\n",
    "for train_index, test_index in kf.split(train_all):\n",
    "    cv_splits_train.append(train_index)\n",
    "    cv_splits_test.append(test_index)\n",
    "cv_folds = len(cv_splits_train)"
   ]
  },
  {
   "cell_type": "code",
   "execution_count": 5,
   "metadata": {
    "ExecuteTime": {
     "end_time": "2017-12-29T08:46:33.187854Z",
     "start_time": "2017-12-29T08:46:33.131846Z"
    },
    "collapsed": true
   },
   "outputs": [],
   "source": [
    "cv_train = []\n",
    "cv_test = []\n",
    "for i in range(cv_folds):\n",
    "    cv_train.append(train_all.loc[cv_splits_train[i], :])\n",
    "    cv_test.append(train_all.loc[cv_splits_test[i], :])"
   ]
  },
  {
   "cell_type": "code",
   "execution_count": 6,
   "metadata": {
    "ExecuteTime": {
     "end_time": "2017-12-29T08:46:33.192855Z",
     "start_time": "2017-12-29T08:46:33.188854Z"
    },
    "collapsed": true
   },
   "outputs": [],
   "source": [
    "train = cv_train\n",
    "test = cv_test"
   ]
  },
  {
   "cell_type": "markdown",
   "metadata": {},
   "source": [
    "Count and check that the data is split such that the percentages of labels in train/test are roughly equal"
   ]
  },
  {
   "cell_type": "code",
   "execution_count": 7,
   "metadata": {
    "ExecuteTime": {
     "end_time": "2017-12-29T08:46:33.201854Z",
     "start_time": "2017-12-29T08:46:33.193858Z"
    },
    "collapsed": true
   },
   "outputs": [],
   "source": [
    "labels = ['toxic', 'severe_toxic', 'obscene', 'threat', 'insult', 'identity_hate']"
   ]
  },
  {
   "cell_type": "code",
   "execution_count": 8,
   "metadata": {
    "ExecuteTime": {
     "end_time": "2017-12-29T08:46:33.319867Z",
     "start_time": "2017-12-29T08:46:33.202855Z"
    }
   },
   "outputs": [
    {
     "name": "stdout",
     "output_type": "stream",
     "text": [
      "CV train 0\n",
      "        toxic: 7366 / 76680 (9.606%)\n",
      " severe_toxic: 792 / 76680 (1.033%)\n",
      "      obscene: 4108 / 76680 (5.357%)\n",
      "       threat: 234 / 76680 (0.305%)\n",
      "       insult: 3826 / 76680 (4.99%)\n",
      "identity_hate: 654 / 76680 (0.853%)\n",
      "CV test 0\n",
      "        toxic: 1871 / 19171 (9.76%)\n",
      " severe_toxic: 173 / 19171 (0.902%)\n",
      "      obscene: 1001 / 19171 (5.221%)\n",
      "       threat: 71 / 19171 (0.37%)\n",
      "       insult: 939 / 19171 (4.898%)\n",
      "identity_hate: 160 / 19171 (0.835%)\n",
      "CV train 1\n",
      "        toxic: 7413 / 76681 (9.667%)\n",
      " severe_toxic: 772 / 76681 (1.007%)\n",
      "      obscene: 4136 / 76681 (5.394%)\n",
      "       threat: 244 / 76681 (0.318%)\n",
      "       insult: 3841 / 76681 (5.009%)\n",
      "identity_hate: 657 / 76681 (0.857%)\n",
      "CV test 1\n",
      "        toxic: 1824 / 19170 (9.515%)\n",
      " severe_toxic: 193 / 19170 (1.007%)\n",
      "      obscene: 973 / 19170 (5.076%)\n",
      "       threat: 61 / 19170 (0.318%)\n",
      "       insult: 924 / 19170 (4.82%)\n",
      "identity_hate: 157 / 19170 (0.819%)\n",
      "CV train 2\n",
      "        toxic: 7397 / 76681 (9.646%)\n",
      " severe_toxic: 764 / 76681 (0.996%)\n",
      "      obscene: 4072 / 76681 (5.31%)\n",
      "       threat: 248 / 76681 (0.323%)\n",
      "       insult: 3795 / 76681 (4.949%)\n",
      "identity_hate: 651 / 76681 (0.849%)\n",
      "CV test 2\n",
      "        toxic: 1840 / 19170 (9.598%)\n",
      " severe_toxic: 201 / 19170 (1.049%)\n",
      "      obscene: 1037 / 19170 (5.409%)\n",
      "       threat: 57 / 19170 (0.297%)\n",
      "       insult: 970 / 19170 (5.06%)\n",
      "identity_hate: 163 / 19170 (0.85%)\n",
      "CV train 3\n",
      "        toxic: 7392 / 76681 (9.64%)\n",
      " severe_toxic: 769 / 76681 (1.003%)\n",
      "      obscene: 4068 / 76681 (5.305%)\n",
      "       threat: 254 / 76681 (0.331%)\n",
      "       insult: 3818 / 76681 (4.979%)\n",
      "identity_hate: 652 / 76681 (0.85%)\n",
      "CV test 3\n",
      "        toxic: 1845 / 19170 (9.624%)\n",
      " severe_toxic: 196 / 19170 (1.022%)\n",
      "      obscene: 1041 / 19170 (5.43%)\n",
      "       threat: 51 / 19170 (0.266%)\n",
      "       insult: 947 / 19170 (4.94%)\n",
      "identity_hate: 162 / 19170 (0.845%)\n",
      "CV train 4\n",
      "        toxic: 7380 / 76681 (9.624%)\n",
      " severe_toxic: 763 / 76681 (0.995%)\n",
      "      obscene: 4052 / 76681 (5.284%)\n",
      "       threat: 240 / 76681 (0.313%)\n",
      "       insult: 3780 / 76681 (4.93%)\n",
      "identity_hate: 642 / 76681 (0.837%)\n",
      "CV test 4\n",
      "        toxic: 1857 / 19170 (9.687%)\n",
      " severe_toxic: 202 / 19170 (1.054%)\n",
      "      obscene: 1057 / 19170 (5.514%)\n",
      "       threat: 65 / 19170 (0.339%)\n",
      "       insult: 985 / 19170 (5.138%)\n",
      "identity_hate: 172 / 19170 (0.897%)\n"
     ]
    }
   ],
   "source": [
    "def print_count_of_each_label(df):\n",
    "    for label in labels:\n",
    "        print('{}: {} / {} ({}%)'.format(label.rjust(len(labels[-1])),\n",
    "                                         df.loc[df[label] == 1].shape[0],\n",
    "                                         len(df),\n",
    "                                         np.round(df.loc[df[label] == 1].shape[0]/len(df)*100, 3)))\n",
    "\n",
    "for i in range(cv_folds):\n",
    "    print('CV train {}'.format(i))\n",
    "    print_count_of_each_label(cv_train[i])\n",
    "    print('CV test {}'.format(i))\n",
    "    print_count_of_each_label(cv_test[i])"
   ]
  },
  {
   "cell_type": "markdown",
   "metadata": {},
   "source": [
    "# Split train/test into X and y"
   ]
  },
  {
   "cell_type": "markdown",
   "metadata": {},
   "source": [
    "So that we can use sklearn classifiers easily"
   ]
  },
  {
   "cell_type": "code",
   "execution_count": 9,
   "metadata": {
    "ExecuteTime": {
     "end_time": "2017-12-29T08:46:33.349033Z",
     "start_time": "2017-12-29T08:46:33.320866Z"
    },
    "collapsed": true
   },
   "outputs": [],
   "source": [
    "X_train = [None] * cv_folds\n",
    "y_train = [None] * cv_folds\n",
    "X_test = [None] * cv_folds\n",
    "y_test = [None] * cv_folds\n",
    "for i in range(cv_folds):\n",
    "    X_train[i], y_train[i] = train[i][[\"comment_text\"]], train[i][labels]\n",
    "    X_test[i], y_test[i] = test[i][[\"comment_text\"]], test[i][labels]"
   ]
  },
  {
   "cell_type": "code",
   "execution_count": 10,
   "metadata": {
    "ExecuteTime": {
     "end_time": "2017-12-29T08:46:33.355368Z",
     "start_time": "2017-12-29T08:46:33.350869Z"
    }
   },
   "outputs": [
    {
     "name": "stdout",
     "output_type": "stream",
     "text": [
      "(76680, 1) (76680, 6)\n",
      "(19171, 1) (19171, 6)\n"
     ]
    }
   ],
   "source": [
    "print(X_train[0].shape, y_train[0].shape)\n",
    "print(X_test[0].shape, y_test[0].shape)"
   ]
  },
  {
   "cell_type": "markdown",
   "metadata": {},
   "source": [
    "# Extract features"
   ]
  },
  {
   "cell_type": "markdown",
   "metadata": {},
   "source": [
    "## Extract textstat features"
   ]
  },
  {
   "cell_type": "code",
   "execution_count": 11,
   "metadata": {
    "ExecuteTime": {
     "end_time": "2017-12-29T08:46:33.367880Z",
     "start_time": "2017-12-29T08:46:33.356370Z"
    },
    "collapsed": true
   },
   "outputs": [],
   "source": [
    "def extract_textstat_features(df):\n",
    "    features_df = pd.DataFrame()\n",
    "    features_df['comment_text_len'] = df['comment_text'].apply(len)\n",
    "    features_df['comment_text_lex_count'] = df['comment_text'].apply(textstat.lexicon_count)\n",
    "    features_df['comment_text_syl_count'] = df['comment_text'].apply(textstat.syllable_count)\n",
    "    features_df['comment_text_sent_count'] = df['comment_text'].apply(textstat.sentence_count)\n",
    "    features_df['comment_text_flesch_reading_ease'] = df['comment_text'].apply(textstat.flesch_reading_ease)\n",
    "    features_df['comment_text_flesch_kincaid_grade'] = df['comment_text'].apply(textstat.flesch_kincaid_grade)\n",
    "    \n",
    "    features_df['comment_text_syl_over_lex'] = features_df['comment_text_syl_count'] / features_df['comment_text_lex_count']\n",
    "    features_df['comment_text_lex_over_sent'] = features_df['comment_text_lex_count'] / features_df['comment_text_sent_count']\n",
    "    \n",
    "#         df.loc[:,'comment_len'] = df.loc[:,'comment_text'].apply(len)\n",
    "#         df.loc[:,'comment_avg_syllable'] = df.loc[:,'comment_text'].apply(average_syllable)\n",
    "#         df.loc[:,'comment_syllable'] = df.loc[:,'comment_text'].apply(textstat.syllable_count)\n",
    "#         df.loc[:,'comment_num_sent'] = df.loc[:, 'comment_text'].apply(textstat.sentence_count)\n",
    "#         df.loc[:, \"comment_word_per_sent\"] = df.loc[:, \"comment_text\"].apply(lambda x: textstat.lexicon_count(x) / textstat.sentence_count(x))\n",
    "#         df.loc[:,'comment_flesch_reading_ease'] = df.loc[:,'comment_text'].apply(textstat.flesch_reading_ease)\n",
    "#         df.loc[:,'comment_flesch_kincaid_grade'] = df.loc[:,'comment_text'].apply(textstat.flesch_kincaid_grade)\n",
    "    \n",
    "    return features_df"
   ]
  },
  {
   "cell_type": "code",
   "execution_count": 12,
   "metadata": {
    "ExecuteTime": {
     "end_time": "2017-12-29T08:46:33.500884Z",
     "start_time": "2017-12-29T08:46:33.368879Z"
    },
    "collapsed": true
   },
   "outputs": [],
   "source": [
    "train_textstat_features_file = '../data/train_textstat_features.csv'\n",
    "if os.path.isfile(train_textstat_features_file):\n",
    "    X_train_all_features_textstat = pd.read_csv(train_textstat_features_file, index_col=0)\n",
    "else:\n",
    "    X_train_all_features_textstat = extract_textstat_features(train_all)\n",
    "    X_train_all_features_textstat.to_csv(train_textstat_features_file)"
   ]
  },
  {
   "cell_type": "markdown",
   "metadata": {
    "ExecuteTime": {
     "end_time": "2017-12-25T03:21:02.663558Z",
     "start_time": "2017-12-25T03:21:02.123907Z"
    }
   },
   "source": [
    "## Split textstat features"
   ]
  },
  {
   "cell_type": "code",
   "execution_count": 13,
   "metadata": {
    "ExecuteTime": {
     "end_time": "2017-12-29T08:46:33.550393Z",
     "start_time": "2017-12-29T08:46:33.501885Z"
    },
    "collapsed": true
   },
   "outputs": [],
   "source": [
    "X_train_features_textstat = []\n",
    "X_test_features_textstat = []\n",
    "for i in range(cv_folds):\n",
    "    X_train_features_textstat.append(X_train_all_features_textstat.loc[cv_splits_train[i], :])\n",
    "    X_test_features_textstat.append(X_train_all_features_textstat.loc[cv_splits_test[i], :])"
   ]
  },
  {
   "cell_type": "markdown",
   "metadata": {},
   "source": [
    "## Extract BoW"
   ]
  },
  {
   "cell_type": "code",
   "execution_count": 14,
   "metadata": {
    "ExecuteTime": {
     "end_time": "2017-12-29T08:46:33.555393Z",
     "start_time": "2017-12-29T08:46:33.551391Z"
    },
    "collapsed": true
   },
   "outputs": [],
   "source": [
    "re_tok = re.compile('([{}“”¨«»®´·º½¾¿¡§£₤‘’])'.format(string.punctuation))\n",
    "def tokenize(s): return re_tok.sub(r' \\1 ', s).split()"
   ]
  },
  {
   "cell_type": "code",
   "execution_count": 15,
   "metadata": {
    "ExecuteTime": {
     "end_time": "2017-12-29T08:46:53.476003Z",
     "start_time": "2017-12-29T08:46:33.556392Z"
    },
    "collapsed": true
   },
   "outputs": [],
   "source": [
    "n = train_all.shape[0]\n",
    "vec = TfidfVectorizer(ngram_range=(1,2), tokenizer=tokenize,\n",
    "               min_df=3, max_df=0.9, strip_accents='unicode', use_idf=1,\n",
    "               smooth_idf=1, sublinear_tf=1 )\n",
    "train_term_doc = vec.fit_transform(train_all['comment_text'])"
   ]
  },
  {
   "cell_type": "code",
   "execution_count": 16,
   "metadata": {
    "ExecuteTime": {
     "end_time": "2017-12-29T08:46:54.292003Z",
     "start_time": "2017-12-29T08:46:53.477003Z"
    },
    "collapsed": true
   },
   "outputs": [],
   "source": [
    "X_train_features_bow = []\n",
    "X_test_features_bow = []\n",
    "for i in range(cv_folds):\n",
    "    X_train_features_bow.append(train_term_doc[cv_splits_train[i], :])\n",
    "    X_test_features_bow.append(train_term_doc[cv_splits_test[i], :])"
   ]
  },
  {
   "cell_type": "markdown",
   "metadata": {},
   "source": [
    "## Extract emotion scores"
   ]
  },
  {
   "cell_type": "code",
   "execution_count": 17,
   "metadata": {
    "ExecuteTime": {
     "end_time": "2017-12-29T08:46:54.300002Z",
     "start_time": "2017-12-29T08:46:54.293002Z"
    },
    "collapsed": true
   },
   "outputs": [],
   "source": [
    "emotion_lexicon_file = \"../data/features/NRC-AffectIntensity-Lexicon.txt\"\n",
    "emotion_lexicon = pd.read_csv(emotion_lexicon_file, sep = \"\\t\")"
   ]
  },
  {
   "cell_type": "code",
   "execution_count": 18,
   "metadata": {
    "ExecuteTime": {
     "end_time": "2017-12-29T08:46:54.309003Z",
     "start_time": "2017-12-29T08:46:54.301003Z"
    },
    "collapsed": true
   },
   "outputs": [],
   "source": [
    "emotion_term_score = {'anger': {}, 'fear': {}, 'joy': {}, 'sadness': {}}\n",
    "for row in emotion_lexicon.itertuples():\n",
    "    emotion_term_score[row.AffectDimension][row.term] = row.score"
   ]
  },
  {
   "cell_type": "code",
   "execution_count": 19,
   "metadata": {
    "ExecuteTime": {
     "end_time": "2017-12-29T08:46:54.321002Z",
     "start_time": "2017-12-29T08:46:54.310003Z"
    },
    "collapsed": true
   },
   "outputs": [],
   "source": [
    "translator = str.maketrans('', '', string.punctuation)\n",
    "emotions = ['anger', 'fear', 'joy', 'sadness']\n",
    "def avg_emotion_score(comment_text):\n",
    "    try:\n",
    "        comment_cleaned = comment_text.translate(translator)\n",
    "    except:\n",
    "        comment_cleaned = \"\"\n",
    "    comment_cleaned = comment_cleaned.lower()\n",
    "    comment_cleaned_words = comment_cleaned.split(\" \")\n",
    "    \n",
    "    emotion_scores = {'anger': 0, 'fear': 0, 'joy': 0, 'sadness': 0}\n",
    "    for emotion in emotions:\n",
    "        scores = [emotion_term_score[emotion].get(word) for word in comment_cleaned_words\n",
    "                    if emotion_term_score[emotion].get(word) is not None]\n",
    "        if len(scores) == 0:\n",
    "            continue\n",
    "        emotion_scores[emotion] = np.mean(scores)\n",
    "        \n",
    "    return [emotion_scores[emotion] for emotion in emotions]\n",
    "    \n",
    "def extract_emotion_features(df):\n",
    "    features_df = df['comment_text'].apply(avg_emotion_score)\n",
    "    return pd.DataFrame(features_df.values.tolist(), columns=['comment_text_emotion_{}'.format(emotion) for emotion in emotions])"
   ]
  },
  {
   "cell_type": "code",
   "execution_count": 20,
   "metadata": {
    "ExecuteTime": {
     "end_time": "2017-12-29T08:46:59.981004Z",
     "start_time": "2017-12-29T08:46:54.322003Z"
    },
    "collapsed": true
   },
   "outputs": [],
   "source": [
    "X_train_all_features_emotion = extract_emotion_features(train_all)"
   ]
  },
  {
   "cell_type": "code",
   "execution_count": 21,
   "metadata": {
    "ExecuteTime": {
     "end_time": "2017-12-29T08:47:00.022004Z",
     "start_time": "2017-12-29T08:46:59.982004Z"
    },
    "collapsed": true
   },
   "outputs": [],
   "source": [
    "X_train_features_emotion = []\n",
    "X_test_features_emotion = []\n",
    "for i in range(cv_folds):\n",
    "    X_train_features_emotion.append(X_train_all_features_emotion.loc[cv_splits_train[i], :])\n",
    "    X_test_features_emotion.append(X_train_all_features_emotion.loc[cv_splits_test[i], :])"
   ]
  },
  {
   "cell_type": "markdown",
   "metadata": {},
   "source": [
    "# Function to calculate mean column-wise log loss of y_pred vs y_actual"
   ]
  },
  {
   "cell_type": "code",
   "execution_count": 22,
   "metadata": {
    "ExecuteTime": {
     "end_time": "2017-12-29T08:47:00.026004Z",
     "start_time": "2017-12-29T08:47:00.023004Z"
    },
    "collapsed": true
   },
   "outputs": [],
   "source": [
    "def calculate_score(y_actual, y_pred):\n",
    "    col_log_loss = [log_loss(np.array(y_actual[label]),\n",
    "                             np.array([1.-np.array(y_pred[label]), np.array(y_pred[label])]).T) for label in labels]\n",
    "    return col_log_loss"
   ]
  },
  {
   "cell_type": "markdown",
   "metadata": {},
   "source": [
    "# Test classification scores"
   ]
  },
  {
   "cell_type": "markdown",
   "metadata": {},
   "source": [
    "## Perfect score"
   ]
  },
  {
   "cell_type": "code",
   "execution_count": 23,
   "metadata": {
    "ExecuteTime": {
     "end_time": "2017-12-29T08:47:00.052005Z",
     "start_time": "2017-12-29T08:47:00.027005Z"
    }
   },
   "outputs": [
    {
     "data": {
      "text/plain": [
       "9.9920072216264108e-16"
      ]
     },
     "execution_count": 23,
     "metadata": {},
     "output_type": "execute_result"
    }
   ],
   "source": [
    "np.mean(calculate_score(y_test[0], y_test[0]))"
   ]
  },
  {
   "cell_type": "markdown",
   "metadata": {},
   "source": [
    "## ZeroR"
   ]
  },
  {
   "cell_type": "code",
   "execution_count": 24,
   "metadata": {
    "ExecuteTime": {
     "end_time": "2017-12-29T08:47:00.148003Z",
     "start_time": "2017-12-29T08:47:00.053006Z"
    }
   },
   "outputs": [
    {
     "name": "stdout",
     "output_type": "stream",
     "text": [
      "[ 3.32844347  0.34772673  1.84096823  0.10990296  1.71701177  0.29331534]\n",
      "1.27289475201\n"
     ]
    }
   ],
   "source": [
    "scores_zeror = []\n",
    "for i in range(cv_folds):\n",
    "    data = np.array([np.zeros(len(labels))] * len(X_test[i]))\n",
    "    y_pred_zeror = pd.DataFrame(data, columns=labels)\n",
    "    scores = calculate_score(y_test[i], y_pred_zeror)\n",
    "    scores_zeror.append(scores)\n",
    "print(np.mean(scores_zeror, axis=0))\n",
    "print(np.mean(scores_zeror))"
   ]
  },
  {
   "cell_type": "markdown",
   "metadata": {
    "ExecuteTime": {
     "end_time": "2017-12-24T12:28:47.459632Z",
     "start_time": "2017-12-24T12:28:47.455633Z"
    }
   },
   "source": [
    "## All 0.5"
   ]
  },
  {
   "cell_type": "code",
   "execution_count": 25,
   "metadata": {
    "ExecuteTime": {
     "end_time": "2017-12-29T08:47:00.243004Z",
     "start_time": "2017-12-29T08:47:00.149004Z"
    }
   },
   "outputs": [
    {
     "name": "stdout",
     "output_type": "stream",
     "text": [
      "[ 0.69314718  0.69314718  0.69314718  0.69314718  0.69314718  0.69314718]\n",
      "0.69314718056\n"
     ]
    }
   ],
   "source": [
    "scores_half = []\n",
    "for i in range(cv_folds):\n",
    "    data = np.array([np.ones(len(labels))*0.5] * len(X_test[i]))\n",
    "    y_pred_half = pd.DataFrame(data, columns=labels)\n",
    "    scores = calculate_score(y_test[i], y_pred_half)\n",
    "    scores_half.append(scores)\n",
    "print(np.mean(scores_half, axis=0))\n",
    "print(np.mean(scores_half))"
   ]
  },
  {
   "cell_type": "markdown",
   "metadata": {},
   "source": [
    "## Test calculate_score"
   ]
  },
  {
   "cell_type": "code",
   "execution_count": 26,
   "metadata": {
    "ExecuteTime": {
     "end_time": "2017-12-29T08:47:00.335004Z",
     "start_time": "2017-12-29T08:47:00.244006Z"
    }
   },
   "outputs": [
    {
     "name": "stdout",
     "output_type": "stream",
     "text": [
      "[  0.69314718   0.91220862   1.15881057   1.6050267    2.19335539\n",
      "  34.24546105]\n",
      "6.80133491769\n"
     ]
    }
   ],
   "source": [
    "scores_half = []\n",
    "for i in range(cv_folds):\n",
    "    data = np.array([np.array([0.5, 0.6, 0.7, 0.8, 0.9, 1.0])] * len(X_test[i]))\n",
    "    y_pred_half = pd.DataFrame(data, columns=labels)\n",
    "    scores = calculate_score(y_test[i], y_pred_half)\n",
    "    scores_half.append(scores)\n",
    "print(np.mean(scores_half, axis=0))\n",
    "print(np.mean(scores_half))"
   ]
  },
  {
   "cell_type": "code",
   "execution_count": 27,
   "metadata": {
    "ExecuteTime": {
     "end_time": "2017-12-29T08:47:00.341005Z",
     "start_time": "2017-12-29T08:47:00.336006Z"
    },
    "collapsed": true
   },
   "outputs": [],
   "source": [
    "def best_classifier_per_label(classifiers, y_pred, scores):\n",
    "    classifier_scores = np.array([np.mean(scores[classifier_name], axis=0) for classifier_name, _ in classifiers])\n",
    "    best_classifier_score_per_label = [(classifiers[min_idx][0], classifier_scores[min_idx][i])\n",
    "                                           for i, min_idx in enumerate(np.argmin(classifier_scores, axis=0))]\n",
    "    for i, label in enumerate(labels):\n",
    "        print(\"[{}] {} : {}\".format(label, best_classifier_score_per_label[i][0], best_classifier_score_per_label[i][1]))\n",
    "    print(\"Average: {}\".format(np.mean([x[1] for x in best_classifier_score_per_label])))\n",
    "    "
   ]
  },
  {
   "cell_type": "markdown",
   "metadata": {},
   "source": [
    "## Run classifiers"
   ]
  },
  {
   "cell_type": "code",
   "execution_count": 28,
   "metadata": {
    "ExecuteTime": {
     "end_time": "2017-12-29T08:47:00.352003Z",
     "start_time": "2017-12-29T08:47:00.342003Z"
    },
    "collapsed": true
   },
   "outputs": [],
   "source": [
    "def run_classifiers(classifiers, X_train_features, X_test_features, y_train, clf, y_pred, scores):\n",
    "    for classifier_name, classifier in classifiers:\n",
    "        print('Training with {}'.format(classifier_name))\n",
    "        clf[classifier_name] = [{}]*cv_folds\n",
    "        y_pred[classifier_name] = [{}]*cv_folds\n",
    "        scores[classifier_name] = [{}]*cv_folds\n",
    "        for fold in range(cv_folds):\n",
    "            y_pred[classifier_name][fold] = pd.DataFrame()\n",
    "            for label in labels:\n",
    "                clf[classifier_name][fold][label] = classifier()\n",
    "                clf[classifier_name][fold][label].fit(X_train_features[fold], y_train[fold][label])\n",
    "\n",
    "                y_pred[classifier_name][fold][label] = clf[classifier_name][fold][label].predict_proba(X_test_features[fold]).T[1]\n",
    "\n",
    "            scores[classifier_name][fold] = calculate_score(y_test[fold], y_pred[classifier_name][fold])\n",
    "        print('Column-wise log loss for {}: {} - {}'.format(classifier_name, np.mean(scores[classifier_name], axis=0), np.mean(scores[classifier_name])))\n",
    "    best_classifier_per_label(classifiers, y_pred, scores)"
   ]
  },
  {
   "cell_type": "markdown",
   "metadata": {},
   "source": [
    "## Textstat features only"
   ]
  },
  {
   "cell_type": "code",
   "execution_count": 29,
   "metadata": {
    "ExecuteTime": {
     "end_time": "2017-12-29T08:47:00.363004Z",
     "start_time": "2017-12-29T08:47:00.353004Z"
    },
    "collapsed": true
   },
   "outputs": [],
   "source": [
    "classifiers_textstat = []\n",
    "# classifiers_textstat += [\n",
    "#     ('Logistic Regression {}'.format(c), lambda: LogisticRegression(solver=\"newton-cg\", C=2.0**c, max_iter=1000)) for c in np.arange(-3,4,1)]\n",
    "classifiers_textstat += [\n",
    "    \n",
    "    ('XGBoost', lambda: xgb.XGBClassifier()),\n",
    "    \n",
    "    ('Logistic Regression', lambda: LogisticRegression(solver=\"newton-cg\", C=2.0, max_iter=1000)),\n",
    "    \n",
    "    ('NB-SVM', lambda: NbSvmClassifier()),\n",
    "    \n",
    "    (\"Decision Tree\", lambda: DecisionTreeClassifier(max_depth=5)),\n",
    "    (\"Random Forest\", lambda: RandomForestClassifier(max_depth=5, n_estimators=10, max_features=1)),\n",
    "    (\"Extra Trees\", lambda: ExtraTreesClassifier(max_depth=5)),\n",
    "    (\"Gradient Boosting\", lambda: GradientBoostingClassifier()),\n",
    "    \n",
    "    (\"Nearest Neighbors\", lambda: KNeighborsClassifier(131)),\n",
    "    (\"Naive Bayes\", lambda: GaussianNB()),\n",
    "    (\"Neural Net\", lambda: MLPClassifier(alpha=1)),\n",
    "    (\"AdaBoost\", lambda: AdaBoostClassifier()),\n",
    "    (\"QDA\", lambda: QuadraticDiscriminantAnalysis()),\n",
    "    \n",
    "    # Cannot even run\n",
    "    #     (\"Gaussian Process\", lambda: GaussianProcessClassifier(1.0 * RBF(1.0)))  # Memory error??? Even with 32GB ram???\n",
    "    #     (\"Linear SVM\", lambda: SVC(kernel=\"linear\", C=0.025)),                   # Slow like shit\n",
    "    #     (\"RBF SVM\", lambda: SVC(gamma=2, C=1))                                   # Slow like shit\n",
    "]"
   ]
  },
  {
   "cell_type": "code",
   "execution_count": 34,
   "metadata": {
    "ExecuteTime": {
     "end_time": "2017-12-29T00:27:04.475521Z",
     "start_time": "2017-12-29T00:20:58.478459Z"
    }
   },
   "outputs": [
    {
     "name": "stdout",
     "output_type": "stream",
     "text": [
      "Training with XGBoost\n",
      "Column-wise log loss for XGBoost: [ 0.28483668  0.04888504  0.18583719  0.01931983  0.17817057  0.04614669] - 0.12719933169122624\n",
      "Training with Logistic Regression\n"
     ]
    },
    {
     "name": "stderr",
     "output_type": "stream",
     "text": [
      "C:\\Anaconda3\\lib\\site-packages\\scipy\\optimize\\linesearch.py:414: LineSearchWarning: The line search algorithm did not converge\n",
      "  warn('The line search algorithm did not converge', LineSearchWarning)\n",
      "C:\\Anaconda3\\lib\\site-packages\\scipy\\optimize\\linesearch.py:285: LineSearchWarning: The line search algorithm did not converge\n",
      "  warn('The line search algorithm did not converge', LineSearchWarning)\n",
      "C:\\Anaconda3\\lib\\site-packages\\sklearn\\utils\\optimize.py:195: UserWarning: Line Search failed\n",
      "  warnings.warn('Line Search failed')\n",
      "C:\\Anaconda3\\lib\\site-packages\\sklearn\\linear_model\\base.py:340: RuntimeWarning: overflow encountered in exp\n",
      "  np.exp(prob, prob)\n"
     ]
    },
    {
     "name": "stdout",
     "output_type": "stream",
     "text": [
      "Column-wise log loss for Logistic Regression: [ 0.30794229  0.05469084  0.20307188  0.02067343  0.19241465  0.04878659] - 0.13792994630312155\n",
      "Training with NB-SVM\n",
      "Column-wise log loss for NB-SVM: [ 0.3088186   0.05477122  0.2064551   0.02241579  0.19257606  0.04878047] - 0.1389695399837736\n",
      "Training with Decision Tree\n",
      "Column-wise log loss for Decision Tree: [ 0.2959297   0.05770393  0.19479238  0.02249908  0.18707125  0.0516944 ] - 0.13494845616291268\n",
      "Training with Random Forest\n",
      "Column-wise log loss for Random Forest: [ 0.28869214  0.04996901  0.18832956  0.01952647  0.1803977   0.04645302] - 0.1288946511208793\n",
      "Training with Extra Trees\n",
      "Column-wise log loss for Extra Trees: [ 0.3067392   0.05317678  0.20225509  0.02114142  0.1916116   0.04829698] - 0.1372035116678028\n",
      "Training with Gradient Boosting\n",
      "Column-wise log loss for Gradient Boosting: [ 0.28497241  0.05070651  0.18617423  0.02177583  0.17856269  0.04845527] - 0.1284411568739352\n",
      "Training with Nearest Neighbors\n",
      "Column-wise log loss for Nearest Neighbors: [ 0.30040041  0.09996997  0.22047394  0.05986065  0.2100507   0.11631126] - 0.16784448759227708\n",
      "Training with Naive Bayes\n",
      "Column-wise log loss for Naive Bayes: [ 1.19991102  0.6043399   0.66073099  0.39049619  0.55816932  0.41003738] - 0.6372808012714472\n",
      "Training with Neural Net\n",
      "Column-wise log loss for Neural Net: [ 0.35605402  0.08362123  0.250813    0.02838715  0.23263807  0.07891703] - 0.1717384186496639\n",
      "Training with AdaBoost\n",
      "Column-wise log loss for AdaBoost: [ 0.67160435  0.63981316  0.66305688  0.62246185  0.66245925  0.64227525] - 0.6502784565001449\n",
      "Training with QDA\n",
      "Column-wise log loss for QDA: [ 1.02215137  0.26864289  0.5120429   0.108893    0.45853827  0.19476892] - 0.42750622620456047\n",
      "[toxic] XGBoost : 0.284836675541959\n",
      "[severe_toxic] XGBoost : 0.04888503970659461\n",
      "[obscene] XGBoost : 0.18583719111278976\n",
      "[threat] XGBoost : 0.0193198264879471\n",
      "[insult] XGBoost : 0.17817056803190126\n",
      "[identity_hate] XGBoost : 0.04614668926616587\n",
      "Average: 0.12719933169122624\n"
     ]
    }
   ],
   "source": [
    "clf_textstat = {}\n",
    "y_pred_textstat = {}\n",
    "scores_textstat = {}\n",
    "run_classifiers(classifiers_textstat, X_train_features_textstat, X_test_features_textstat, y_train,\n",
    "                clf_textstat, y_pred_textstat, scores_textstat)"
   ]
  },
  {
   "cell_type": "markdown",
   "metadata": {},
   "source": [
    "# Emotion only"
   ]
  },
  {
   "cell_type": "code",
   "execution_count": 30,
   "metadata": {
    "ExecuteTime": {
     "end_time": "2017-12-29T08:47:00.375003Z",
     "start_time": "2017-12-29T08:47:00.364007Z"
    },
    "collapsed": true
   },
   "outputs": [],
   "source": [
    "classifiers_emotion = []\n",
    "classifiers_emotion += [\n",
    "    \n",
    "    ('XGBoost', lambda: xgb.XGBClassifier()),\n",
    "    \n",
    "    ('Logistic Regression', lambda: LogisticRegression(solver=\"newton-cg\", C=2.0, max_iter=1000)),\n",
    "    \n",
    "    ('NB-SVM', lambda: NbSvmClassifier()),\n",
    "    \n",
    "    (\"Decision Tree\", lambda: DecisionTreeClassifier(max_depth=5)),\n",
    "    (\"Random Forest\", lambda: RandomForestClassifier(max_depth=5, n_estimators=10, max_features=1)),\n",
    "    (\"Extra Trees\", lambda: ExtraTreesClassifier(max_depth=5)),\n",
    "    (\"Gradient Boosting\", lambda: GradientBoostingClassifier()),\n",
    "    \n",
    "    (\"Nearest Neighbors\", lambda: KNeighborsClassifier(131)),\n",
    "    (\"Naive Bayes\", lambda: GaussianNB()),\n",
    "    (\"Neural Net\", lambda: MLPClassifier(alpha=1)),\n",
    "    (\"AdaBoost\", lambda: AdaBoostClassifier()),\n",
    "    (\"QDA\", lambda: QuadraticDiscriminantAnalysis()),\n",
    "    \n",
    "]"
   ]
  },
  {
   "cell_type": "code",
   "execution_count": 31,
   "metadata": {
    "ExecuteTime": {
     "end_time": "2017-12-29T08:52:00.589617Z",
     "start_time": "2017-12-29T08:47:00.376003Z"
    }
   },
   "outputs": [
    {
     "name": "stdout",
     "output_type": "stream",
     "text": [
      "Training with XGBoost\n",
      "Column-wise log loss for XGBoost: [ 0.28097739  0.0491046   0.18069825  0.01608059  0.17323072  0.04627828] - 0.12439497224533132\n",
      "Training with Logistic Regression\n",
      "Column-wise log loss for Logistic Regression: [ 0.30281782  0.05346437  0.19816069  0.01778966  0.18850244  0.04790268] - 0.13477294240101637\n",
      "Training with NB-SVM\n",
      "Column-wise log loss for NB-SVM: [ 0.30284635  0.05354436  0.19828223  0.0178291   0.18855963  0.04798816] - 0.13484163988018344\n",
      "Training with Decision Tree\n",
      "Column-wise log loss for Decision Tree: [ 0.29119536  0.05756155  0.1897252   0.02210877  0.18021672  0.05319517] - 0.13233379506519724\n",
      "Training with Random Forest\n",
      "Column-wise log loss for Random Forest: [ 0.28912067  0.0502141   0.18637452  0.01663489  0.17886223  0.04689942] - 0.12801763911068487\n",
      "Training with Extra Trees\n",
      "Column-wise log loss for Extra Trees: [ 0.29497477  0.05201285  0.19402087  0.01691963  0.18484387  0.04733199] - 0.13168399801377803\n",
      "Training with Gradient Boosting\n",
      "Column-wise log loss for Gradient Boosting: [ 0.28031976  0.05084389  0.17996076  0.02550753  0.17277433  0.04804649] - 0.12624212669327087\n",
      "Training with Nearest Neighbors\n",
      "Column-wise log loss for Nearest Neighbors: [ 0.29165544  0.15037621  0.20590929  0.04238035  0.19490669  0.15876168] - 0.17399827741015292\n",
      "Training with Naive Bayes\n",
      "Column-wise log loss for Naive Bayes: [ 0.34974573  0.06386406  0.22037707  0.05350175  0.21354214  0.05394995] - 0.1591634489533457\n",
      "Training with Neural Net\n",
      "Column-wise log loss for Neural Net: [ 0.30562078  0.05607581  0.20268314  0.02124097  0.1928085   0.04893601] - 0.13789420224472734\n",
      "Training with AdaBoost\n",
      "Column-wise log loss for AdaBoost: [ 0.67279384  0.6438545   0.66484652  0.62444232  0.66409402  0.64428087] - 0.6523853452278163\n",
      "Training with QDA\n",
      "Column-wise log loss for QDA: [ 0.32082022  0.05767759  0.20768918  0.02257206  0.19890271  0.04920142] - 0.14281053013108386\n",
      "[toxic] Gradient Boosting : 0.28031976212512205\n",
      "[severe_toxic] XGBoost : 0.04910460056419642\n",
      "[obscene] Gradient Boosting : 0.17996075573696335\n",
      "[threat] XGBoost : 0.01608059269426635\n",
      "[insult] Gradient Boosting : 0.17277433095805822\n",
      "[identity_hate] XGBoost : 0.04627828065343444\n",
      "Average: 0.1240863871220068\n"
     ]
    }
   ],
   "source": [
    "clf_emotion = {}\n",
    "y_pred_emotion = {}\n",
    "scores_emotion = {}\n",
    "run_classifiers(classifiers_emotion, X_train_features_emotion, X_test_features_emotion, y_train,\n",
    "                clf_emotion, y_pred_emotion, scores_emotion)"
   ]
  },
  {
   "cell_type": "markdown",
   "metadata": {},
   "source": [
    "## Textstat + emotion"
   ]
  },
  {
   "cell_type": "code",
   "execution_count": 32,
   "metadata": {
    "ExecuteTime": {
     "end_time": "2017-12-29T08:52:00.599619Z",
     "start_time": "2017-12-29T08:52:00.590617Z"
    },
    "collapsed": true
   },
   "outputs": [],
   "source": [
    "classifiers_textstat_emotion = []\n",
    "classifiers_textstat_emotion += [\n",
    "    \n",
    "    ('XGBoost', lambda: xgb.XGBClassifier()),\n",
    "    \n",
    "    ('Logistic Regression', lambda: LogisticRegression(solver=\"newton-cg\", C=2.0, max_iter=1000)),\n",
    "    \n",
    "    ('NB-SVM', lambda: NbSvmClassifier()),\n",
    "    \n",
    "    (\"Decision Tree\", lambda: DecisionTreeClassifier(max_depth=5)),\n",
    "    (\"Random Forest\", lambda: RandomForestClassifier(max_depth=5, n_estimators=10, max_features=1)),\n",
    "    (\"Extra Trees\", lambda: ExtraTreesClassifier(max_depth=5)),\n",
    "    (\"Gradient Boosting\", lambda: GradientBoostingClassifier()),\n",
    "    \n",
    "    (\"Nearest Neighbors\", lambda: KNeighborsClassifier(131)),\n",
    "    (\"Naive Bayes\", lambda: GaussianNB()),\n",
    "    (\"Neural Net\", lambda: MLPClassifier(alpha=1)),\n",
    "    (\"AdaBoost\", lambda: AdaBoostClassifier()),\n",
    "    (\"QDA\", lambda: QuadraticDiscriminantAnalysis()),\n",
    "    \n",
    "]"
   ]
  },
  {
   "cell_type": "code",
   "execution_count": 33,
   "metadata": {
    "ExecuteTime": {
     "end_time": "2017-12-29T08:52:00.635134Z",
     "start_time": "2017-12-29T08:52:00.601118Z"
    }
   },
   "outputs": [
    {
     "name": "stdout",
     "output_type": "stream",
     "text": [
      "(76680, 8)\n",
      "(76680, 4)\n",
      "(76680, 12)\n"
     ]
    }
   ],
   "source": [
    "# concat features\n",
    "X_train_features_textstat_emotion = [None]*cv_folds\n",
    "X_test_features_textstat_emotion = [None]*cv_folds\n",
    "for fold in range(cv_folds):\n",
    "    X_train_features_textstat_emotion[fold] = np.hstack((X_train_features_textstat[fold], X_train_features_emotion[fold].values))\n",
    "    X_test_features_textstat_emotion[fold] = np.hstack((X_test_features_textstat[fold], X_test_features_emotion[fold].values))\n",
    "\n",
    "print(X_train_features_textstat[0].shape)\n",
    "print(X_train_features_emotion[0].shape)\n",
    "print(X_train_features_textstat_emotion[0].shape)"
   ]
  },
  {
   "cell_type": "code",
   "execution_count": 34,
   "metadata": {
    "ExecuteTime": {
     "end_time": "2017-12-29T09:00:31.334367Z",
     "start_time": "2017-12-29T08:52:00.636135Z"
    }
   },
   "outputs": [
    {
     "name": "stdout",
     "output_type": "stream",
     "text": [
      "Training with XGBoost\n",
      "Column-wise log loss for XGBoost: [ 0.25466106  0.0439385   0.16512503  0.01459849  0.15957165  0.0441224 ] - 0.11366952025039936\n",
      "Training with Logistic Regression\n"
     ]
    },
    {
     "name": "stderr",
     "output_type": "stream",
     "text": [
      "C:\\Anaconda3\\lib\\site-packages\\scipy\\optimize\\linesearch.py:414: LineSearchWarning: The line search algorithm did not converge\n",
      "  warn('The line search algorithm did not converge', LineSearchWarning)\n",
      "C:\\Anaconda3\\lib\\site-packages\\scipy\\optimize\\linesearch.py:285: LineSearchWarning: The line search algorithm did not converge\n",
      "  warn('The line search algorithm did not converge', LineSearchWarning)\n",
      "C:\\Anaconda3\\lib\\site-packages\\sklearn\\utils\\optimize.py:195: UserWarning: Line Search failed\n",
      "  warnings.warn('Line Search failed')\n"
     ]
    },
    {
     "name": "stdout",
     "output_type": "stream",
     "text": [
      "Column-wise log loss for Logistic Regression: [ 0.29033679  0.05177318  0.19207388  0.01697266  0.18157816  0.04752037] - 0.13004250616136864\n",
      "Training with NB-SVM\n",
      "Column-wise log loss for NB-SVM: [ 0.29464626  0.05191786  0.19800408  0.02284097  0.18207067  0.04755327] - 0.13283885191981842\n",
      "Training with Decision Tree\n",
      "Column-wise log loss for Decision Tree: [ 0.27283879  0.05495066  0.17805424  0.02105112  0.17211375  0.05156203] - 0.12509509976452168\n",
      "Training with Random Forest\n",
      "Column-wise log loss for Random Forest: [ 0.27226953  0.04723687  0.17926678  0.01619441  0.17163983  0.04560722] - 0.12203577458858317\n",
      "Training with Extra Trees\n",
      "Column-wise log loss for Extra Trees: [ 0.29372791  0.05117481  0.19176711  0.01724305  0.18462805  0.04707229] - 0.13093553602716565\n",
      "Training with Gradient Boosting\n",
      "Column-wise log loss for Gradient Boosting: [ 0.25477474  0.04652219  0.16590093  0.02123535  0.16026194  0.04670239] - 0.1158995878491742\n",
      "Training with Nearest Neighbors\n",
      "Column-wise log loss for Nearest Neighbors: [ 0.30000046  0.10052786  0.2199507   0.06007279  0.20983146  0.11570494] - 0.167681367482825\n",
      "Training with Naive Bayes\n",
      "Column-wise log loss for Naive Bayes: [ 1.16824854  0.60374502  0.65205034  0.41148655  0.55087263  0.41325294] - 0.6332760028423154\n",
      "Training with Neural Net\n",
      "Column-wise log loss for Neural Net: [ 0.31952125  0.07832915  0.25350785  0.03626833  0.20467197  0.09024711] - 0.1637576103172628\n",
      "Training with AdaBoost\n",
      "Column-wise log loss for AdaBoost: [ 0.66877762  0.63555532  0.66040046  0.60959585  0.65961676  0.63974013] - 0.6456143569886397\n",
      "Training with QDA\n",
      "Column-wise log loss for QDA: [ 0.97156807  0.264482    0.48611843  0.10188697  0.43447956  0.19135727] - 0.4083153837911547\n",
      "[toxic] XGBoost : 0.254661058308309\n",
      "[severe_toxic] XGBoost : 0.04393850004359558\n",
      "[obscene] XGBoost : 0.16512502878785826\n",
      "[threat] XGBoost : 0.014598489438839646\n",
      "[insult] XGBoost : 0.159571645350197\n",
      "[identity_hate] XGBoost : 0.044122399573596705\n",
      "Average: 0.11366952025039938\n"
     ]
    }
   ],
   "source": [
    "clf_textstat_emotion = {}\n",
    "y_pred_textstat_emotion = {}\n",
    "scores_textstat_emotion = {}\n",
    "run_classifiers(classifiers_textstat_emotion, X_train_features_textstat_emotion,\n",
    "                X_test_features_textstat_emotion, y_train,\n",
    "                clf_textstat_emotion, y_pred_textstat_emotion, scores_textstat_emotion)"
   ]
  },
  {
   "cell_type": "markdown",
   "metadata": {
    "collapsed": true
   },
   "source": [
    "## Bag of words only"
   ]
  },
  {
   "cell_type": "code",
   "execution_count": 41,
   "metadata": {
    "ExecuteTime": {
     "end_time": "2017-12-29T09:25:39.246511Z",
     "start_time": "2017-12-29T09:25:39.242509Z"
    },
    "collapsed": true
   },
   "outputs": [],
   "source": [
    "classifiers_bow = [\n",
    "    (\"Multinominal Naive Bayes\", lambda: MultinomialNB()),\n",
    "    ('XGBoost', lambda: xgb.XGBClassifier()),\n",
    "    ('NB-SVM', lambda: NbSvmClassifier()),\n",
    "    ('Logistic Regression', lambda: LogisticRegression(solver=\"newton-cg\", C=2.0, max_iter=1000)),\n",
    "]"
   ]
  },
  {
   "cell_type": "code",
   "execution_count": 40,
   "metadata": {
    "ExecuteTime": {
     "end_time": "2017-12-29T09:25:39.241509Z",
     "start_time": "2017-12-29T09:10:25.325767Z"
    }
   },
   "outputs": [
    {
     "name": "stdout",
     "output_type": "stream",
     "text": [
      "Training with Multinominal Naive Bayes\n",
      "Column-wise log loss for Multinominal Naive Bayes: [ 0.38178366  0.09346046  0.27977229  0.04259091  0.28126247  0.09527841] - 0.19569136478192795\n",
      "Training with XGBoost\n",
      "Column-wise log loss for XGBoost: [ 0.17100424  0.02967503  0.08285327  0.01151829  0.09920887  0.02879798] - 0.07050961249373632\n",
      "Training with NB-SVM\n",
      "Column-wise log loss for NB-SVM: [ 0.10984278  0.02989426  0.06178523  0.01158265  0.07788519  0.0280709 ] - 0.053176833214058444\n",
      "Training with Logistic Regression\n",
      "Column-wise log loss for Logistic Regression: [ 0.12359399  0.02828408  0.07265129  0.01201408  0.08213134  0.02879822] - 0.05791216907554267\n",
      "[toxic] NB-SVM : 0.10984278055513888\n",
      "[severe_toxic] Logistic Regression : 0.028284083949432954\n",
      "[obscene] NB-SVM : 0.06178522862661414\n",
      "[threat] XGBoost : 0.011518292908607505\n",
      "[insult] NB-SVM : 0.07788518537680542\n",
      "[identity_hate] NB-SVM : 0.028070896212669443\n",
      "Average: 0.05289774460487806\n"
     ]
    }
   ],
   "source": [
    "clf_bow = {}\n",
    "y_pred_bow = {}\n",
    "scores_bow = {}\n",
    "run_classifiers(classifiers_bow, X_train_features_bow,\n",
    "                X_test_features_bow, y_train,\n",
    "                clf_bow, y_pred_bow, scores_bow)"
   ]
  },
  {
   "cell_type": "markdown",
   "metadata": {
    "collapsed": true
   },
   "source": [
    "## Bag of words + textstat"
   ]
  },
  {
   "cell_type": "code",
   "execution_count": 48,
   "metadata": {
    "ExecuteTime": {
     "end_time": "2017-12-29T10:49:25.700103Z",
     "start_time": "2017-12-29T10:49:25.697103Z"
    },
    "collapsed": true
   },
   "outputs": [],
   "source": [
    "classifiers_bow_textstat = [\n",
    "#     ('XGBoost', lambda: xgb.XGBClassifier()),\n",
    "    ('NB-SVM', lambda: NbSvmClassifier()),\n",
    "#     ('Logistic Regression', lambda: LogisticRegression(solver=\"newton-cg\", C=2.0, max_iter=1000))\n",
    "]"
   ]
  },
  {
   "cell_type": "code",
   "execution_count": 49,
   "metadata": {
    "ExecuteTime": {
     "end_time": "2017-12-29T10:49:37.160104Z",
     "start_time": "2017-12-29T10:49:25.994106Z"
    }
   },
   "outputs": [
    {
     "name": "stdout",
     "output_type": "stream",
     "text": [
      "(76680, 285100)\n",
      "(76680, 8)\n",
      "(76680, 285108)\n"
     ]
    }
   ],
   "source": [
    "# concat features\n",
    "X_train_features_bow_textstat = [None]*cv_folds\n",
    "X_test_features_bow_textstat = [None]*cv_folds\n",
    "for fold in range(cv_folds):\n",
    "    X_train_features_bow_textstat[fold] = hstack((X_train_features_bow[fold], X_train_features_textstat[fold].values)).tocsr()\n",
    "    X_test_features_bow_textstat[fold] = hstack((X_test_features_bow[fold], X_test_features_textstat[fold].values)).tocsr()\n",
    "\n",
    "print(X_train_features_bow[0].shape)\n",
    "print(X_train_features_textstat[0].shape)\n",
    "print(X_train_features_bow_textstat[0].shape)"
   ]
  },
  {
   "cell_type": "code",
   "execution_count": null,
   "metadata": {
    "ExecuteTime": {
     "end_time": "2017-12-29T10:50:19.976112Z",
     "start_time": "2017-12-29T10:49:37.161105Z"
    }
   },
   "outputs": [],
   "source": [
    "clf_bow_textstat = {}\n",
    "y_pred_bow_textstat = {}\n",
    "scores_bow_textstat = {}\n",
    "run_classifiers(classifiers_bow_textstat, X_train_features_bow_textstat,\n",
    "                X_test_features_bow_textstat, y_train,\n",
    "                clf_bow_textstat, y_pred_bow_textstat, scores_bow_textstat)"
   ]
  },
  {
   "cell_type": "markdown",
   "metadata": {
    "collapsed": true
   },
   "source": [
    "## Bag of words + textstat + emotion"
   ]
  },
  {
   "cell_type": "code",
   "execution_count": null,
   "metadata": {
    "ExecuteTime": {
     "end_time": "2017-12-29T10:50:19.976112Z",
     "start_time": "2017-12-29T10:49:27.686Z"
    },
    "collapsed": true
   },
   "outputs": [],
   "source": [
    "classifiers_bow_textstat_emotion = [\n",
    "#     ('XGBoost', lambda: xgb.XGBClassifier()),\n",
    "    ('NB-SVM', lambda: NbSvmClassifier()),\n",
    "#     ('Logistic Regression', lambda: LogisticRegression(solver=\"newton-cg\", C=2.0, max_iter=1000))\n",
    "]"
   ]
  },
  {
   "cell_type": "code",
   "execution_count": null,
   "metadata": {
    "ExecuteTime": {
     "end_time": "2017-12-29T10:50:19.977111Z",
     "start_time": "2017-12-29T10:49:27.966Z"
    },
    "collapsed": true
   },
   "outputs": [],
   "source": [
    "# concat features\n",
    "X_train_features_bow_textstat_emotion = [None]*cv_folds\n",
    "X_test_features_bow_textstat_emotion = [None]*cv_folds\n",
    "for fold in range(cv_folds):\n",
    "    X_train_features_bow_textstat_emotion[fold] = hstack((X_train_features_bow[fold], X_train_features_textstat[fold].values, X_train_features_emotion[fold].values))\n",
    "    X_test_features_bow_textstat_emotion[fold] = hstack((X_test_features_bow[fold], X_test_features_textstat[fold].values, X_test_features_emotion[fold].values))\n",
    "\n",
    "print(X_train_features_bow[0].shape)\n",
    "print(X_train_features_textstat[0].shape)\n",
    "print(X_train_features_emotion[0].shape)\n",
    "print(X_train_features_bow_textstat_emotion[0].shape)"
   ]
  },
  {
   "cell_type": "code",
   "execution_count": null,
   "metadata": {
    "ExecuteTime": {
     "end_time": "2017-12-29T10:50:19.977111Z",
     "start_time": "2017-12-29T10:49:28.559Z"
    },
    "collapsed": true
   },
   "outputs": [],
   "source": [
    "clf_bow_textstat_emotion = {}\n",
    "y_pred_bow_textstat_emotion = {}\n",
    "scores_bow_textstat_emotion = {}\n",
    "\n",
    "run_classifiers(classifiers_bow_textstat_emotion, X_train_features_bow_textstat_emotion,\n",
    "                X_test_features_bow_textstat_emotion, y_train,\n",
    "                clf_bow_textstat_emotion, y_pred_bow_textstat_emotion, scores_bow_textstat_emotion)"
   ]
  },
  {
   "cell_type": "code",
   "execution_count": null,
   "metadata": {
    "collapsed": true
   },
   "outputs": [],
   "source": []
  }
 ],
 "metadata": {
  "kernelspec": {
   "display_name": "Python 3",
   "language": "python",
   "name": "python3"
  },
  "language_info": {
   "codemirror_mode": {
    "name": "ipython",
    "version": 3
   },
   "file_extension": ".py",
   "mimetype": "text/x-python",
   "name": "python",
   "nbconvert_exporter": "python",
   "pygments_lexer": "ipython3",
   "version": "3.5.3"
  }
 },
 "nbformat": 4,
 "nbformat_minor": 2
}
